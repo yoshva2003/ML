{
 "cells": [
  {
   "cell_type": "code",
   "execution_count": 1,
   "id": "0cf5dbb7-defc-46f3-95b7-eceaa57bd4d6",
   "metadata": {},
   "outputs": [],
   "source": [
    "a=5"
   ]
  },
  {
   "cell_type": "code",
   "execution_count": 3,
   "id": "4908395a-3c85-4a31-ab77-1c43c7fc2b4b",
   "metadata": {},
   "outputs": [
    {
     "name": "stdout",
     "output_type": "stream",
     "text": [
      "5\n"
     ]
    }
   ],
   "source": [
    "print(a)"
   ]
  },
  {
   "cell_type": "code",
   "execution_count": 5,
   "id": "af47a148-2dee-4d13-8cb5-d48592780115",
   "metadata": {},
   "outputs": [],
   "source": [
    "a=7\n",
    "b=a\n",
    "a=3"
   ]
  },
  {
   "cell_type": "code",
   "execution_count": 7,
   "id": "dbe6f349-ec97-40a2-84c5-07847f56919f",
   "metadata": {},
   "outputs": [
    {
     "name": "stdout",
     "output_type": "stream",
     "text": [
      "3\n"
     ]
    }
   ],
   "source": [
    "print(a)"
   ]
  },
  {
   "cell_type": "code",
   "execution_count": 9,
   "id": "8e936e68-fa8c-4cf7-9242-f5d5b25989cf",
   "metadata": {},
   "outputs": [],
   "source": [
    "A=6\n"
   ]
  },
  {
   "cell_type": "code",
   "execution_count": 11,
   "id": "a200389e-f184-47d5-b46d-52b1d3984620",
   "metadata": {},
   "outputs": [
    {
     "data": {
      "text/plain": [
       "3"
      ]
     },
     "execution_count": 11,
     "metadata": {},
     "output_type": "execute_result"
    }
   ],
   "source": [
    "a\n"
   ]
  },
  {
   "cell_type": "code",
   "execution_count": 13,
   "id": "e294a157-fcab-41db-861c-ebf04a21c0c8",
   "metadata": {},
   "outputs": [
    {
     "data": {
      "text/plain": [
       "6"
      ]
     },
     "execution_count": 13,
     "metadata": {},
     "output_type": "execute_result"
    }
   ],
   "source": [
    "A"
   ]
  },
  {
   "cell_type": "code",
   "execution_count": 15,
   "id": "4df40123-b99b-4cbd-a588-f90aa28185d4",
   "metadata": {},
   "outputs": [],
   "source": [
    "_a=5"
   ]
  },
  {
   "cell_type": "code",
   "execution_count": 17,
   "id": "0253efa9-334e-4f33-9850-f93b2d8658ce",
   "metadata": {},
   "outputs": [
    {
     "data": {
      "text/plain": [
       "5"
      ]
     },
     "execution_count": 17,
     "metadata": {},
     "output_type": "execute_result"
    }
   ],
   "source": [
    "_a"
   ]
  },
  {
   "cell_type": "code",
   "execution_count": 19,
   "id": "9c2a08b8-1996-4931-b81a-7e089d15b420",
   "metadata": {},
   "outputs": [
    {
     "ename": "SyntaxError",
     "evalue": "invalid syntax. Maybe you meant '==' or ':=' instead of '='? (759514597.py, line 1)",
     "output_type": "error",
     "traceback": [
      "\u001b[1;36m  Cell \u001b[1;32mIn[19], line 1\u001b[1;36m\u001b[0m\n\u001b[1;33m    @a=5\u001b[0m\n\u001b[1;37m     ^\u001b[0m\n\u001b[1;31mSyntaxError\u001b[0m\u001b[1;31m:\u001b[0m invalid syntax. Maybe you meant '==' or ':=' instead of '='?\n"
     ]
    }
   ],
   "source": [
    "@a=5"
   ]
  },
  {
   "cell_type": "code",
   "execution_count": 21,
   "id": "c63cb3b3-4da5-46aa-aa64-11003f0a78fc",
   "metadata": {},
   "outputs": [],
   "source": [
    "#a=5"
   ]
  },
  {
   "cell_type": "code",
   "execution_count": 23,
   "id": "4b96f46d-334b-44a6-a086-d0989f2e47a4",
   "metadata": {},
   "outputs": [
    {
     "ename": "SyntaxError",
     "evalue": "invalid decimal literal (2215310065.py, line 1)",
     "output_type": "error",
     "traceback": [
      "\u001b[1;36m  Cell \u001b[1;32mIn[23], line 1\u001b[1;36m\u001b[0m\n\u001b[1;33m    1a=5\u001b[0m\n\u001b[1;37m    ^\u001b[0m\n\u001b[1;31mSyntaxError\u001b[0m\u001b[1;31m:\u001b[0m invalid decimal literal\n"
     ]
    }
   ],
   "source": [
    "1a=5"
   ]
  },
  {
   "cell_type": "code",
   "execution_count": 25,
   "id": "a4809438-f6a1-4428-89ff-8c74c3498490",
   "metadata": {},
   "outputs": [
    {
     "data": {
      "text/plain": [
       "int"
      ]
     },
     "execution_count": 25,
     "metadata": {},
     "output_type": "execute_result"
    }
   ],
   "source": [
    "type(a)"
   ]
  },
  {
   "cell_type": "code",
   "execution_count": 27,
   "id": "09ba3728-d61e-430d-b8f8-ea7bd2f0f1fe",
   "metadata": {},
   "outputs": [
    {
     "data": {
      "text/plain": [
       "float"
      ]
     },
     "execution_count": 27,
     "metadata": {},
     "output_type": "execute_result"
    }
   ],
   "source": [
    "f=4.55\n",
    "type(f)"
   ]
  },
  {
   "cell_type": "code",
   "execution_count": 29,
   "id": "cf09a6fa-e14e-4827-9a29-1d2f2f7148bf",
   "metadata": {},
   "outputs": [
    {
     "data": {
      "text/plain": [
       "bool"
      ]
     },
     "execution_count": 29,
     "metadata": {},
     "output_type": "execute_result"
    }
   ],
   "source": [
    "b=True\n",
    "type(b)"
   ]
  },
  {
   "cell_type": "code",
   "execution_count": 33,
   "id": "bc158894-6c2b-4820-b138-1794cdde5d25",
   "metadata": {},
   "outputs": [
    {
     "data": {
      "text/plain": [
       "str"
      ]
     },
     "execution_count": 33,
     "metadata": {},
     "output_type": "execute_result"
    }
   ],
   "source": [
    "s=\"asbcd\"\n",
    "type(s)"
   ]
  },
  {
   "cell_type": "code",
   "execution_count": 35,
   "id": "8b7e20d4-ebf9-47ff-b622-7bb6dbcdcd49",
   "metadata": {},
   "outputs": [
    {
     "data": {
      "text/plain": [
       "23"
      ]
     },
     "execution_count": 35,
     "metadata": {},
     "output_type": "execute_result"
    }
   ],
   "source": [
    "a=23.22\n",
    "int(a)"
   ]
  },
  {
   "cell_type": "code",
   "execution_count": 37,
   "id": "e222d173-58b7-4236-947d-2e8291e2040b",
   "metadata": {},
   "outputs": [
    {
     "data": {
      "text/plain": [
       "25"
      ]
     },
     "execution_count": 37,
     "metadata": {},
     "output_type": "execute_result"
    }
   ],
   "source": [
    "b=int('23')+2\n",
    "b"
   ]
  },
  {
   "cell_type": "code",
   "execution_count": 39,
   "id": "ed867e4c-d880-4a0d-991b-2eddfe515dd3",
   "metadata": {},
   "outputs": [],
   "source": [
    "a=2\n",
    "b=7.2\n",
    "c=10\n",
    "d=\"abcd\""
   ]
  },
  {
   "cell_type": "code",
   "execution_count": 41,
   "id": "47c19d77-c62e-4e5d-ba7e-4b236285d149",
   "metadata": {},
   "outputs": [
    {
     "data": {
      "text/plain": [
       "9.2"
      ]
     },
     "execution_count": 41,
     "metadata": {},
     "output_type": "execute_result"
    }
   ],
   "source": [
    "a+b"
   ]
  },
  {
   "cell_type": "code",
   "execution_count": 43,
   "id": "60e278be-8fc0-4e56-9502-f8bae031119d",
   "metadata": {},
   "outputs": [
    {
     "data": {
      "text/plain": [
       "2.8"
      ]
     },
     "execution_count": 43,
     "metadata": {},
     "output_type": "execute_result"
    }
   ],
   "source": [
    "c-b"
   ]
  },
  {
   "cell_type": "code",
   "execution_count": 45,
   "id": "90f49401-0f99-40dd-8f20-df7681f3e10a",
   "metadata": {},
   "outputs": [
    {
     "data": {
      "text/plain": [
       "14.4"
      ]
     },
     "execution_count": 45,
     "metadata": {},
     "output_type": "execute_result"
    }
   ],
   "source": [
    "a*b"
   ]
  },
  {
   "cell_type": "code",
   "execution_count": 47,
   "id": "ac1dccec-6083-47f4-9b39-b949790f875c",
   "metadata": {},
   "outputs": [
    {
     "data": {
      "text/plain": [
       "0"
      ]
     },
     "execution_count": 47,
     "metadata": {},
     "output_type": "execute_result"
    }
   ],
   "source": [
    "c%a"
   ]
  },
  {
   "cell_type": "code",
   "execution_count": 49,
   "id": "88244799-22ff-416a-9d9c-541ea6821765",
   "metadata": {},
   "outputs": [
    {
     "data": {
      "text/plain": [
       "5.0"
      ]
     },
     "execution_count": 49,
     "metadata": {},
     "output_type": "execute_result"
    }
   ],
   "source": [
    "c/2"
   ]
  },
  {
   "cell_type": "code",
   "execution_count": 51,
   "id": "fd96da69-d7ce-4077-b9f8-faa8c3d08bcd",
   "metadata": {},
   "outputs": [
    {
     "data": {
      "text/plain": [
       "4"
      ]
     },
     "execution_count": 51,
     "metadata": {},
     "output_type": "execute_result"
    }
   ],
   "source": [
    "a**2"
   ]
  },
  {
   "cell_type": "code",
   "execution_count": 57,
   "id": "be805cc7-df8c-4d11-a996-acbdbe71afc9",
   "metadata": {},
   "outputs": [
    {
     "data": {
      "text/plain": [
       "5"
      ]
     },
     "execution_count": 57,
     "metadata": {},
     "output_type": "execute_result"
    }
   ],
   "source": [
    "c//2"
   ]
  },
  {
   "cell_type": "code",
   "execution_count": 59,
   "id": "fb17a5f1-44ca-4b82-b7dd-257b85397f21",
   "metadata": {},
   "outputs": [
    {
     "data": {
      "text/plain": [
       "3.0"
      ]
     },
     "execution_count": 59,
     "metadata": {},
     "output_type": "execute_result"
    }
   ],
   "source": [
    "b//2\n"
   ]
  },
  {
   "cell_type": "code",
   "execution_count": 61,
   "id": "68261a35-3077-4622-84e4-a12b42c3b5e8",
   "metadata": {},
   "outputs": [
    {
     "data": {
      "text/plain": [
       "False"
      ]
     },
     "execution_count": 61,
     "metadata": {},
     "output_type": "execute_result"
    }
   ],
   "source": [
    "a==b"
   ]
  },
  {
   "cell_type": "code",
   "execution_count": 63,
   "id": "e8981617-85fe-40ab-9c75-c9b82a9c6b0f",
   "metadata": {},
   "outputs": [
    {
     "data": {
      "text/plain": [
       "True"
      ]
     },
     "execution_count": 63,
     "metadata": {},
     "output_type": "execute_result"
    }
   ],
   "source": [
    "c>b"
   ]
  },
  {
   "cell_type": "code",
   "execution_count": 65,
   "id": "19318f15-5616-4124-8fad-a21d56877506",
   "metadata": {},
   "outputs": [
    {
     "data": {
      "text/plain": [
       "True"
      ]
     },
     "execution_count": 65,
     "metadata": {},
     "output_type": "execute_result"
    }
   ],
   "source": [
    "a<c"
   ]
  },
  {
   "cell_type": "code",
   "execution_count": 67,
   "id": "3b3b4450-79d6-4a55-86a0-af8c8360db46",
   "metadata": {},
   "outputs": [
    {
     "data": {
      "text/plain": [
       "True"
      ]
     },
     "execution_count": 67,
     "metadata": {},
     "output_type": "execute_result"
    }
   ],
   "source": [
    "a!=b"
   ]
  },
  {
   "cell_type": "code",
   "execution_count": 69,
   "id": "032ef322-f407-4a95-87b9-5948b4f57458",
   "metadata": {},
   "outputs": [
    {
     "data": {
      "text/plain": [
       "False"
      ]
     },
     "execution_count": 69,
     "metadata": {},
     "output_type": "execute_result"
    }
   ],
   "source": [
    "a<2 and  b>5"
   ]
  },
  {
   "cell_type": "code",
   "execution_count": 71,
   "id": "2b4f8eb5-7a00-4054-8e9e-0e5537ea253f",
   "metadata": {},
   "outputs": [
    {
     "data": {
      "text/plain": [
       "True"
      ]
     },
     "execution_count": 71,
     "metadata": {},
     "output_type": "execute_result"
    }
   ],
   "source": [
    "a<2 or b>5"
   ]
  },
  {
   "cell_type": "code",
   "execution_count": 76,
   "id": "ede1efc6-161c-42d8-9b24-32eae2b1bbdb",
   "metadata": {},
   "outputs": [
    {
     "data": {
      "text/plain": [
       "True"
      ]
     },
     "execution_count": 76,
     "metadata": {},
     "output_type": "execute_result"
    }
   ],
   "source": [
    "(1==1) or (3==4)"
   ]
  },
  {
   "cell_type": "code",
   "execution_count": 78,
   "id": "7935ba46-c10d-4b57-b2a0-d707e4f8647b",
   "metadata": {},
   "outputs": [
    {
     "data": {
      "text/plain": [
       "True"
      ]
     },
     "execution_count": 78,
     "metadata": {},
     "output_type": "execute_result"
    }
   ],
   "source": [
    "(1<2)or ((2==3) or (2>3))"
   ]
  },
  {
   "cell_type": "code",
   "execution_count": 82,
   "id": "59a76345-6abc-4c23-83fd-30ad101f02fe",
   "metadata": {},
   "outputs": [
    {
     "name": "stdout",
     "output_type": "stream",
     "text": [
      "b is greater\n"
     ]
    }
   ],
   "source": [
    "a=5\n",
    "b=10\n",
    "if (a>b):\n",
    "    print(\"a is greater\")\n",
    "else:\n",
    "    print(\"b is greater\")"
   ]
  },
  {
   "cell_type": "code",
   "execution_count": 86,
   "id": "8a89841a-b284-49b0-8fac-fc2e7e56de56",
   "metadata": {},
   "outputs": [
    {
     "name": "stdout",
     "output_type": "stream",
     "text": [
      "ok\n"
     ]
    }
   ],
   "source": [
    "if ((a>2) or (b>3)) and (a<b):\n",
    "    print(\"ok\")\n",
    "elif (a>3) and (b>5):\n",
    "    print(\"yes\")\n",
    "else:\n",
    "    print(\"no\")\n",
    "    "
   ]
  },
  {
   "cell_type": "code",
   "execution_count": 94,
   "id": "3d1f141b-a924-4ffa-a61c-9a0e327b1b82",
   "metadata": {},
   "outputs": [
    {
     "name": "stdin",
     "output_type": "stream",
     "text": [
      "enter a number: 5\n"
     ]
    },
    {
     "name": "stdout",
     "output_type": "stream",
     "text": [
      "it is an odd\n"
     ]
    }
   ],
   "source": [
    "x=int(input(\"enter a number:\"))\n",
    "if x%2==0:\n",
    "    print(\"it is a even number\")\n",
    "else:\n",
    "    print(\"it is an odd\")"
   ]
  },
  {
   "cell_type": "code",
   "execution_count": 98,
   "id": "2886e968-3d6b-4ad6-8857-53a5220750e4",
   "metadata": {},
   "outputs": [
    {
     "name": "stdout",
     "output_type": "stream",
     "text": [
      "python is awesome\n",
      "python is awesome\n",
      "python is awesome\n",
      "python is awesome\n",
      "python is awesome\n",
      "python is awesome\n",
      "python is awesome\n",
      "python is awesome\n",
      "python is awesome\n",
      "python is awesome\n",
      "python is awesome\n",
      "python is awesome\n",
      "python is awesome\n",
      "python is awesome\n",
      "python is awesome\n",
      "python is awesome\n",
      "python is awesome\n",
      "python is awesome\n",
      "python is awesome\n",
      "python is awesome\n",
      "python is awesome\n",
      "python is awesome\n",
      "python is awesome\n",
      "python is awesome\n",
      "python is awesome\n",
      "python is awesome\n",
      "python is awesome\n",
      "python is awesome\n",
      "python is awesome\n",
      "python is awesome\n",
      "python is awesome\n",
      "python is awesome\n",
      "python is awesome\n",
      "python is awesome\n",
      "python is awesome\n",
      "python is awesome\n",
      "python is awesome\n",
      "python is awesome\n",
      "python is awesome\n",
      "python is awesome\n",
      "python is awesome\n",
      "python is awesome\n",
      "python is awesome\n",
      "python is awesome\n",
      "python is awesome\n",
      "python is awesome\n",
      "python is awesome\n",
      "python is awesome\n",
      "python is awesome\n",
      "python is awesome\n",
      "python is awesome\n",
      "python is awesome\n",
      "python is awesome\n",
      "python is awesome\n",
      "python is awesome\n",
      "python is awesome\n",
      "python is awesome\n",
      "python is awesome\n",
      "python is awesome\n",
      "python is awesome\n",
      "python is awesome\n",
      "python is awesome\n",
      "python is awesome\n",
      "python is awesome\n",
      "python is awesome\n",
      "python is awesome\n",
      "python is awesome\n",
      "python is awesome\n",
      "python is awesome\n",
      "python is awesome\n",
      "python is awesome\n",
      "python is awesome\n",
      "python is awesome\n",
      "python is awesome\n",
      "python is awesome\n",
      "python is awesome\n",
      "python is awesome\n",
      "python is awesome\n",
      "python is awesome\n",
      "python is awesome\n",
      "python is awesome\n",
      "python is awesome\n",
      "python is awesome\n",
      "python is awesome\n",
      "python is awesome\n",
      "python is awesome\n",
      "python is awesome\n",
      "python is awesome\n",
      "python is awesome\n",
      "python is awesome\n",
      "python is awesome\n",
      "python is awesome\n",
      "python is awesome\n",
      "python is awesome\n",
      "python is awesome\n",
      "python is awesome\n",
      "python is awesome\n",
      "python is awesome\n",
      "python is awesome\n",
      "python is awesome\n",
      "python is awesome\n",
      "python is awesome\n",
      "python is awesome\n",
      "python is awesome\n",
      "python is awesome\n",
      "python is awesome\n",
      "python is awesome\n",
      "python is awesome\n",
      "python is awesome\n",
      "python is awesome\n",
      "python is awesome\n",
      "python is awesome\n",
      "python is awesome\n",
      "python is awesome\n",
      "python is awesome\n",
      "python is awesome\n",
      "python is awesome\n",
      "python is awesome\n",
      "python is awesome\n",
      "python is awesome\n",
      "python is awesome\n",
      "python is awesome\n",
      "python is awesome\n",
      "python is awesome\n",
      "python is awesome\n",
      "python is awesome\n",
      "python is awesome\n",
      "python is awesome\n",
      "python is awesome\n",
      "python is awesome\n",
      "python is awesome\n",
      "python is awesome\n",
      "python is awesome\n",
      "python is awesome\n",
      "python is awesome\n",
      "python is awesome\n",
      "python is awesome\n",
      "python is awesome\n",
      "python is awesome\n",
      "python is awesome\n",
      "python is awesome\n",
      "python is awesome\n",
      "python is awesome\n",
      "python is awesome\n",
      "python is awesome\n",
      "python is awesome\n",
      "python is awesome\n",
      "python is awesome\n",
      "python is awesome\n",
      "python is awesome\n",
      "python is awesome\n",
      "python is awesome\n",
      "python is awesome\n",
      "python is awesome\n",
      "python is awesome\n",
      "python is awesome\n",
      "python is awesome\n",
      "python is awesome\n",
      "python is awesome\n",
      "python is awesome\n",
      "python is awesome\n",
      "python is awesome\n",
      "python is awesome\n",
      "python is awesome\n",
      "python is awesome\n",
      "python is awesome\n",
      "python is awesome\n",
      "python is awesome\n",
      "python is awesome\n",
      "python is awesome\n",
      "python is awesome\n",
      "python is awesome\n",
      "python is awesome\n",
      "python is awesome\n",
      "python is awesome\n",
      "python is awesome\n",
      "python is awesome\n",
      "python is awesome\n",
      "python is awesome\n",
      "python is awesome\n",
      "python is awesome\n",
      "python is awesome\n",
      "python is awesome\n",
      "python is awesome\n",
      "python is awesome\n",
      "python is awesome\n",
      "python is awesome\n",
      "python is awesome\n",
      "python is awesome\n",
      "python is awesome\n",
      "python is awesome\n",
      "python is awesome\n",
      "python is awesome\n",
      "python is awesome\n",
      "python is awesome\n",
      "python is awesome\n",
      "python is awesome\n",
      "python is awesome\n",
      "python is awesome\n",
      "python is awesome\n",
      "python is awesome\n",
      "python is awesome\n",
      "python is awesome\n",
      "python is awesome\n",
      "python is awesome\n",
      "python is awesome\n",
      "python is awesome\n",
      "python is awesome\n",
      "python is awesome\n",
      "python is awesome\n",
      "python is awesome\n",
      "python is awesome\n",
      "python is awesome\n",
      "python is awesome\n",
      "python is awesome\n",
      "python is awesome\n",
      "python is awesome\n",
      "python is awesome\n",
      "python is awesome\n",
      "python is awesome\n",
      "python is awesome\n",
      "python is awesome\n",
      "python is awesome\n",
      "python is awesome\n",
      "python is awesome\n",
      "python is awesome\n",
      "python is awesome\n",
      "python is awesome\n",
      "python is awesome\n",
      "python is awesome\n",
      "python is awesome\n",
      "python is awesome\n",
      "python is awesome\n",
      "python is awesome\n",
      "python is awesome\n",
      "python is awesome\n",
      "python is awesome\n",
      "python is awesome\n",
      "python is awesome\n",
      "python is awesome\n",
      "python is awesome\n",
      "python is awesome\n",
      "python is awesome\n",
      "python is awesome\n",
      "python is awesome\n",
      "python is awesome\n",
      "python is awesome\n",
      "python is awesome\n",
      "python is awesome\n",
      "python is awesome\n",
      "python is awesome\n",
      "python is awesome\n",
      "python is awesome\n",
      "python is awesome\n",
      "python is awesome\n",
      "python is awesome\n",
      "python is awesome\n",
      "python is awesome\n",
      "python is awesome\n",
      "python is awesome\n",
      "python is awesome\n",
      "python is awesome\n",
      "python is awesome\n",
      "python is awesome\n",
      "python is awesome\n",
      "python is awesome\n",
      "python is awesome\n",
      "python is awesome\n",
      "python is awesome\n",
      "python is awesome\n",
      "python is awesome\n",
      "python is awesome\n",
      "python is awesome\n",
      "python is awesome\n",
      "python is awesome\n",
      "python is awesome\n",
      "python is awesome\n",
      "python is awesome\n",
      "python is awesome\n",
      "python is awesome\n",
      "python is awesome\n",
      "python is awesome\n",
      "python is awesome\n",
      "python is awesome\n",
      "python is awesome\n",
      "python is awesome\n",
      "python is awesome\n",
      "python is awesome\n",
      "python is awesome\n",
      "python is awesome\n",
      "python is awesome\n",
      "python is awesome\n",
      "python is awesome\n",
      "python is awesome\n",
      "python is awesome\n",
      "python is awesome\n",
      "python is awesome\n",
      "python is awesome\n",
      "python is awesome\n",
      "python is awesome\n",
      "python is awesome\n",
      "python is awesome\n",
      "python is awesome\n",
      "python is awesome\n",
      "python is awesome\n",
      "python is awesome\n",
      "python is awesome\n",
      "python is awesome\n",
      "python is awesome\n",
      "python is awesome\n",
      "python is awesome\n",
      "python is awesome\n",
      "python is awesome\n",
      "python is awesome\n",
      "python is awesome\n",
      "python is awesome\n",
      "python is awesome\n",
      "python is awesome\n",
      "python is awesome\n",
      "python is awesome\n",
      "python is awesome\n",
      "python is awesome\n",
      "python is awesome\n",
      "python is awesome\n",
      "python is awesome\n",
      "python is awesome\n",
      "python is awesome\n",
      "python is awesome\n",
      "python is awesome\n",
      "python is awesome\n",
      "python is awesome\n",
      "python is awesome\n",
      "python is awesome\n",
      "python is awesome\n",
      "python is awesome\n",
      "python is awesome\n",
      "python is awesome\n",
      "python is awesome\n",
      "python is awesome\n",
      "python is awesome\n",
      "python is awesome\n",
      "python is awesome\n",
      "python is awesome\n",
      "python is awesome\n",
      "python is awesome\n",
      "python is awesome\n",
      "python is awesome\n",
      "python is awesome\n",
      "python is awesome\n",
      "python is awesome\n",
      "python is awesome\n",
      "python is awesome\n",
      "python is awesome\n",
      "python is awesome\n",
      "python is awesome\n",
      "python is awesome\n",
      "python is awesome\n",
      "python is awesome\n",
      "python is awesome\n",
      "python is awesome\n",
      "python is awesome\n",
      "python is awesome\n",
      "python is awesome\n",
      "python is awesome\n",
      "python is awesome\n",
      "python is awesome\n",
      "python is awesome\n",
      "python is awesome\n",
      "python is awesome\n",
      "python is awesome\n",
      "python is awesome\n",
      "python is awesome\n",
      "python is awesome\n",
      "python is awesome\n",
      "python is awesome\n",
      "python is awesome\n",
      "python is awesome\n",
      "python is awesome\n",
      "python is awesome\n",
      "python is awesome\n",
      "python is awesome\n",
      "python is awesome\n",
      "python is awesome\n",
      "python is awesome\n",
      "python is awesome\n",
      "python is awesome\n",
      "python is awesome\n",
      "python is awesome\n",
      "python is awesome\n",
      "python is awesome\n",
      "python is awesome\n",
      "python is awesome\n",
      "python is awesome\n",
      "python is awesome\n",
      "python is awesome\n",
      "python is awesome\n",
      "python is awesome\n",
      "python is awesome\n",
      "python is awesome\n",
      "python is awesome\n",
      "python is awesome\n",
      "python is awesome\n",
      "python is awesome\n",
      "python is awesome\n",
      "python is awesome\n",
      "python is awesome\n",
      "python is awesome\n",
      "python is awesome\n",
      "python is awesome\n",
      "python is awesome\n",
      "python is awesome\n",
      "python is awesome\n",
      "python is awesome\n",
      "python is awesome\n",
      "python is awesome\n",
      "python is awesome\n",
      "python is awesome\n",
      "python is awesome\n",
      "python is awesome\n",
      "python is awesome\n",
      "python is awesome\n",
      "python is awesome\n",
      "python is awesome\n",
      "python is awesome\n",
      "python is awesome\n",
      "python is awesome\n",
      "python is awesome\n",
      "python is awesome\n",
      "python is awesome\n",
      "python is awesome\n",
      "python is awesome\n",
      "python is awesome\n",
      "python is awesome\n",
      "python is awesome\n",
      "python is awesome\n",
      "python is awesome\n",
      "python is awesome\n",
      "python is awesome\n",
      "python is awesome\n",
      "python is awesome\n",
      "python is awesome\n",
      "python is awesome\n",
      "python is awesome\n",
      "python is awesome\n",
      "python is awesome\n",
      "python is awesome\n",
      "python is awesome\n",
      "python is awesome\n",
      "python is awesome\n",
      "python is awesome\n",
      "python is awesome\n",
      "python is awesome\n",
      "python is awesome\n",
      "python is awesome\n",
      "python is awesome\n",
      "python is awesome\n",
      "python is awesome\n",
      "python is awesome\n",
      "python is awesome\n",
      "python is awesome\n",
      "python is awesome\n",
      "python is awesome\n",
      "python is awesome\n",
      "python is awesome\n",
      "python is awesome\n",
      "python is awesome\n",
      "python is awesome\n",
      "python is awesome\n",
      "python is awesome\n",
      "python is awesome\n",
      "python is awesome\n",
      "python is awesome\n",
      "python is awesome\n",
      "python is awesome\n",
      "python is awesome\n",
      "python is awesome\n",
      "python is awesome\n",
      "python is awesome\n",
      "python is awesome\n",
      "python is awesome\n",
      "python is awesome\n",
      "python is awesome\n",
      "python is awesome\n",
      "python is awesome\n",
      "python is awesome\n",
      "python is awesome\n",
      "python is awesome\n",
      "python is awesome\n",
      "python is awesome\n",
      "python is awesome\n",
      "python is awesome\n",
      "python is awesome\n",
      "python is awesome\n",
      "python is awesome\n",
      "python is awesome\n",
      "python is awesome\n",
      "python is awesome\n",
      "python is awesome\n",
      "python is awesome\n",
      "python is awesome\n",
      "python is awesome\n",
      "python is awesome\n",
      "python is awesome\n",
      "python is awesome\n",
      "python is awesome\n",
      "python is awesome\n",
      "python is awesome\n",
      "python is awesome\n",
      "python is awesome\n",
      "python is awesome\n",
      "python is awesome\n",
      "python is awesome\n",
      "python is awesome\n",
      "python is awesome\n",
      "python is awesome\n",
      "python is awesome\n",
      "python is awesome\n",
      "python is awesome\n",
      "python is awesome\n",
      "python is awesome\n",
      "python is awesome\n",
      "python is awesome\n",
      "python is awesome\n",
      "python is awesome\n",
      "python is awesome\n",
      "python is awesome\n",
      "python is awesome\n",
      "python is awesome\n",
      "python is awesome\n",
      "python is awesome\n",
      "python is awesome\n",
      "python is awesome\n",
      "python is awesome\n",
      "python is awesome\n",
      "python is awesome\n",
      "python is awesome\n",
      "python is awesome\n",
      "python is awesome\n",
      "python is awesome\n",
      "python is awesome\n",
      "python is awesome\n",
      "python is awesome\n",
      "python is awesome\n",
      "python is awesome\n",
      "python is awesome\n",
      "python is awesome\n",
      "python is awesome\n",
      "python is awesome\n",
      "python is awesome\n",
      "python is awesome\n",
      "python is awesome\n",
      "python is awesome\n",
      "python is awesome\n",
      "python is awesome\n",
      "python is awesome\n",
      "python is awesome\n",
      "python is awesome\n",
      "python is awesome\n",
      "python is awesome\n",
      "python is awesome\n",
      "python is awesome\n",
      "python is awesome\n",
      "python is awesome\n",
      "python is awesome\n",
      "python is awesome\n",
      "python is awesome\n",
      "python is awesome\n",
      "python is awesome\n",
      "python is awesome\n",
      "python is awesome\n",
      "python is awesome\n",
      "python is awesome\n",
      "python is awesome\n",
      "python is awesome\n",
      "python is awesome\n",
      "python is awesome\n",
      "python is awesome\n",
      "python is awesome\n",
      "python is awesome\n",
      "python is awesome\n",
      "python is awesome\n",
      "python is awesome\n",
      "python is awesome\n",
      "python is awesome\n",
      "python is awesome\n",
      "python is awesome\n",
      "python is awesome\n",
      "python is awesome\n",
      "python is awesome\n",
      "python is awesome\n",
      "python is awesome\n",
      "python is awesome\n",
      "python is awesome\n",
      "python is awesome\n",
      "python is awesome\n",
      "python is awesome\n",
      "python is awesome\n",
      "python is awesome\n",
      "python is awesome\n",
      "python is awesome\n",
      "python is awesome\n",
      "python is awesome\n",
      "python is awesome\n",
      "python is awesome\n",
      "python is awesome\n",
      "python is awesome\n",
      "python is awesome\n",
      "python is awesome\n",
      "python is awesome\n",
      "python is awesome\n",
      "python is awesome\n",
      "python is awesome\n",
      "python is awesome\n",
      "python is awesome\n",
      "python is awesome\n",
      "python is awesome\n",
      "python is awesome\n",
      "python is awesome\n",
      "python is awesome\n",
      "python is awesome\n",
      "python is awesome\n",
      "python is awesome\n",
      "python is awesome\n",
      "python is awesome\n",
      "python is awesome\n",
      "python is awesome\n",
      "python is awesome\n",
      "python is awesome\n",
      "python is awesome\n",
      "python is awesome\n",
      "python is awesome\n",
      "python is awesome\n",
      "python is awesome\n",
      "python is awesome\n",
      "python is awesome\n",
      "python is awesome\n",
      "python is awesome\n",
      "python is awesome\n",
      "python is awesome\n",
      "python is awesome\n",
      "python is awesome\n",
      "python is awesome\n",
      "python is awesome\n",
      "python is awesome\n",
      "python is awesome\n",
      "python is awesome\n",
      "python is awesome\n",
      "python is awesome\n",
      "python is awesome\n",
      "python is awesome\n",
      "python is awesome\n",
      "python is awesome\n",
      "python is awesome\n",
      "python is awesome\n",
      "python is awesome\n",
      "python is awesome\n",
      "python is awesome\n",
      "python is awesome\n",
      "python is awesome\n",
      "python is awesome\n",
      "python is awesome\n",
      "python is awesome\n",
      "python is awesome\n",
      "python is awesome\n",
      "python is awesome\n",
      "python is awesome\n",
      "python is awesome\n",
      "python is awesome\n",
      "python is awesome\n",
      "python is awesome\n",
      "python is awesome\n",
      "python is awesome\n",
      "python is awesome\n",
      "python is awesome\n",
      "python is awesome\n",
      "python is awesome\n",
      "python is awesome\n",
      "python is awesome\n",
      "python is awesome\n",
      "python is awesome\n",
      "python is awesome\n",
      "python is awesome\n",
      "python is awesome\n",
      "python is awesome\n",
      "python is awesome\n",
      "python is awesome\n",
      "python is awesome\n",
      "python is awesome\n",
      "python is awesome\n",
      "python is awesome\n",
      "python is awesome\n",
      "python is awesome\n",
      "python is awesome\n",
      "python is awesome\n",
      "python is awesome\n",
      "python is awesome\n",
      "python is awesome\n",
      "python is awesome\n",
      "python is awesome\n",
      "python is awesome\n",
      "python is awesome\n",
      "python is awesome\n",
      "python is awesome\n",
      "python is awesome\n",
      "python is awesome\n",
      "python is awesome\n",
      "python is awesome\n",
      "python is awesome\n",
      "python is awesome\n",
      "python is awesome\n",
      "python is awesome\n",
      "python is awesome\n",
      "python is awesome\n",
      "python is awesome\n",
      "python is awesome\n",
      "python is awesome\n",
      "python is awesome\n",
      "python is awesome\n",
      "python is awesome\n",
      "python is awesome\n",
      "python is awesome\n",
      "python is awesome\n",
      "python is awesome\n",
      "python is awesome\n",
      "python is awesome\n",
      "python is awesome\n",
      "python is awesome\n",
      "python is awesome\n",
      "python is awesome\n",
      "python is awesome\n",
      "python is awesome\n",
      "python is awesome\n",
      "python is awesome\n",
      "python is awesome\n",
      "python is awesome\n",
      "python is awesome\n",
      "python is awesome\n",
      "python is awesome\n",
      "python is awesome\n",
      "python is awesome\n",
      "python is awesome\n",
      "python is awesome\n",
      "python is awesome\n",
      "python is awesome\n",
      "python is awesome\n",
      "python is awesome\n",
      "python is awesome\n",
      "python is awesome\n",
      "python is awesome\n",
      "python is awesome\n",
      "python is awesome\n",
      "python is awesome\n",
      "python is awesome\n",
      "python is awesome\n",
      "python is awesome\n",
      "python is awesome\n",
      "python is awesome\n",
      "python is awesome\n",
      "python is awesome\n",
      "python is awesome\n",
      "python is awesome\n",
      "python is awesome\n",
      "python is awesome\n",
      "python is awesome\n",
      "python is awesome\n",
      "python is awesome\n",
      "python is awesome\n",
      "python is awesome\n",
      "python is awesome\n",
      "python is awesome\n",
      "python is awesome\n",
      "python is awesome\n",
      "python is awesome\n",
      "python is awesome\n",
      "python is awesome\n",
      "python is awesome\n",
      "python is awesome\n",
      "python is awesome\n",
      "python is awesome\n",
      "python is awesome\n",
      "python is awesome\n",
      "python is awesome\n",
      "python is awesome\n",
      "python is awesome\n",
      "python is awesome\n",
      "python is awesome\n",
      "python is awesome\n",
      "python is awesome\n",
      "python is awesome\n",
      "python is awesome\n",
      "python is awesome\n",
      "python is awesome\n",
      "python is awesome\n",
      "python is awesome\n",
      "python is awesome\n",
      "python is awesome\n",
      "python is awesome\n",
      "python is awesome\n",
      "python is awesome\n",
      "python is awesome\n",
      "python is awesome\n",
      "python is awesome\n",
      "python is awesome\n",
      "python is awesome\n",
      "python is awesome\n",
      "python is awesome\n",
      "python is awesome\n",
      "python is awesome\n",
      "python is awesome\n",
      "python is awesome\n",
      "python is awesome\n",
      "python is awesome\n",
      "python is awesome\n",
      "python is awesome\n",
      "python is awesome\n",
      "python is awesome\n",
      "python is awesome\n",
      "python is awesome\n",
      "python is awesome\n",
      "python is awesome\n",
      "python is awesome\n",
      "python is awesome\n",
      "python is awesome\n",
      "python is awesome\n",
      "python is awesome\n",
      "python is awesome\n",
      "python is awesome\n",
      "python is awesome\n",
      "python is awesome\n",
      "python is awesome\n",
      "python is awesome\n",
      "python is awesome\n",
      "python is awesome\n",
      "python is awesome\n",
      "python is awesome\n",
      "python is awesome\n",
      "python is awesome\n",
      "python is awesome\n",
      "python is awesome\n",
      "python is awesome\n",
      "python is awesome\n",
      "python is awesome\n",
      "python is awesome\n",
      "python is awesome\n",
      "python is awesome\n",
      "python is awesome\n",
      "python is awesome\n",
      "python is awesome\n",
      "python is awesome\n",
      "python is awesome\n",
      "python is awesome\n",
      "python is awesome\n",
      "python is awesome\n",
      "python is awesome\n",
      "python is awesome\n",
      "python is awesome\n",
      "python is awesome\n",
      "python is awesome\n",
      "python is awesome\n",
      "python is awesome\n",
      "python is awesome\n",
      "python is awesome\n",
      "python is awesome\n",
      "python is awesome\n",
      "python is awesome\n",
      "python is awesome\n",
      "python is awesome\n",
      "python is awesome\n",
      "python is awesome\n",
      "python is awesome\n",
      "python is awesome\n",
      "python is awesome\n",
      "python is awesome\n",
      "python is awesome\n",
      "python is awesome\n",
      "python is awesome\n",
      "python is awesome\n",
      "python is awesome\n",
      "python is awesome\n",
      "python is awesome\n",
      "python is awesome\n",
      "python is awesome\n",
      "python is awesome\n",
      "python is awesome\n",
      "python is awesome\n",
      "python is awesome\n",
      "python is awesome\n",
      "python is awesome\n",
      "python is awesome\n",
      "python is awesome\n",
      "python is awesome\n",
      "python is awesome\n",
      "python is awesome\n",
      "python is awesome\n",
      "python is awesome\n",
      "python is awesome\n",
      "python is awesome\n",
      "python is awesome\n",
      "python is awesome\n",
      "python is awesome\n",
      "python is awesome\n",
      "python is awesome\n",
      "python is awesome\n",
      "python is awesome\n",
      "python is awesome\n",
      "python is awesome\n",
      "python is awesome\n",
      "python is awesome\n",
      "python is awesome\n",
      "python is awesome\n",
      "python is awesome\n",
      "python is awesome\n",
      "python is awesome\n",
      "python is awesome\n",
      "python is awesome\n",
      "python is awesome\n",
      "python is awesome\n",
      "python is awesome\n",
      "python is awesome\n",
      "python is awesome\n",
      "python is awesome\n",
      "python is awesome\n",
      "python is awesome\n",
      "python is awesome\n",
      "python is awesome\n",
      "python is awesome\n",
      "python is awesome\n",
      "python is awesome\n",
      "python is awesome\n",
      "python is awesome\n",
      "python is awesome\n",
      "python is awesome\n",
      "python is awesome\n",
      "python is awesome\n",
      "python is awesome\n",
      "python is awesome\n",
      "python is awesome\n",
      "python is awesome\n",
      "python is awesome\n",
      "python is awesome\n",
      "python is awesome\n",
      "python is awesome\n",
      "python is awesome\n",
      "python is awesome\n",
      "python is awesome\n",
      "python is awesome\n",
      "python is awesome\n",
      "python is awesome\n",
      "python is awesome\n",
      "python is awesome\n",
      "python is awesome\n",
      "python is awesome\n",
      "python is awesome\n",
      "python is awesome\n",
      "python is awesome\n",
      "python is awesome\n",
      "python is awesome\n",
      "python is awesome\n",
      "python is awesome\n",
      "python is awesome\n",
      "python is awesome\n",
      "python is awesome\n",
      "python is awesome\n",
      "python is awesome\n",
      "python is awesome\n",
      "python is awesome\n",
      "python is awesome\n",
      "python is awesome\n",
      "python is awesome\n",
      "python is awesome\n",
      "python is awesome\n",
      "python is awesome\n",
      "python is awesome\n",
      "python is awesome\n",
      "python is awesome\n",
      "python is awesome\n",
      "python is awesome\n",
      "python is awesome\n",
      "python is awesome\n",
      "python is awesome\n",
      "python is awesome\n",
      "python is awesome\n",
      "python is awesome\n",
      "python is awesome\n",
      "python is awesome\n",
      "python is awesome\n",
      "python is awesome\n",
      "python is awesome\n",
      "python is awesome\n",
      "python is awesome\n",
      "python is awesome\n",
      "python is awesome\n",
      "python is awesome\n",
      "python is awesome\n",
      "python is awesome\n",
      "python is awesome\n",
      "python is awesome\n",
      "python is awesome\n",
      "python is awesome\n",
      "python is awesome\n"
     ]
    }
   ],
   "source": [
    "for i in range(1000):\n",
    "    print(\"python is awesome\")"
   ]
  },
  {
   "cell_type": "code",
   "execution_count": null,
   "id": "d61902d5-dc32-4958-be8a-2e84b025db98",
   "metadata": {},
   "outputs": [],
   "source": []
  }
 ],
 "metadata": {
  "kernelspec": {
   "display_name": "Python 3 (ipykernel)",
   "language": "python",
   "name": "python3"
  },
  "language_info": {
   "codemirror_mode": {
    "name": "ipython",
    "version": 3
   },
   "file_extension": ".py",
   "mimetype": "text/x-python",
   "name": "python",
   "nbconvert_exporter": "python",
   "pygments_lexer": "ipython3",
   "version": "3.12.4"
  }
 },
 "nbformat": 4,
 "nbformat_minor": 5
}
