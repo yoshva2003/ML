{
 "cells": [
  {
   "cell_type": "code",
   "execution_count": null,
   "id": "ac9d4260-872b-4c0c-b766-989f01bd62c4",
   "metadata": {},
   "outputs": [],
   "source": []
  },
  {
   "cell_type": "code",
   "execution_count": 6,
   "id": "7c3d3992-45a8-4e82-aad0-4c77405960e6",
   "metadata": {},
   "outputs": [
    {
     "name": "stdout",
     "output_type": "stream",
     "text": [
      "Collecting mysql-connector\n",
      "  Downloading mysql-connector-2.2.9.tar.gz (11.9 MB)\n",
      "     ---------------------------------------- 0.0/11.9 MB ? eta -:--:--\n",
      "     ---------------------------------------- 0.0/11.9 MB ? eta -:--:--\n",
      "     --------------------------------------- 0.0/11.9 MB 131.3 kB/s eta 0:01:31\n",
      "     --------------------------------------- 0.0/11.9 MB 163.8 kB/s eta 0:01:13\n",
      "     --------------------------------------- 0.0/11.9 MB 217.9 kB/s eta 0:00:55\n",
      "     --------------------------------------- 0.1/11.9 MB 374.1 kB/s eta 0:00:32\n",
      "      -------------------------------------- 0.2/11.9 MB 731.4 kB/s eta 0:00:16\n",
      "     - -------------------------------------- 0.5/11.9 MB 1.5 MB/s eta 0:00:08\n",
      "     --- ------------------------------------ 1.0/11.9 MB 2.8 MB/s eta 0:00:04\n",
      "     ------ --------------------------------- 1.8/11.9 MB 4.3 MB/s eta 0:00:03\n",
      "     -------- ------------------------------- 2.6/11.9 MB 5.7 MB/s eta 0:00:02\n",
      "     ---------- ----------------------------- 3.1/11.9 MB 6.0 MB/s eta 0:00:02\n",
      "     -------------- ------------------------- 4.3/11.9 MB 7.5 MB/s eta 0:00:02\n",
      "     --------------- ------------------------ 4.5/11.9 MB 7.7 MB/s eta 0:00:01\n",
      "     ----------------- ---------------------- 5.3/11.9 MB 8.0 MB/s eta 0:00:01\n",
      "     -------------------- ------------------- 6.1/11.9 MB 8.7 MB/s eta 0:00:01\n",
      "     ------------------------ --------------- 7.2/11.9 MB 9.6 MB/s eta 0:00:01\n",
      "     -------------------------- ------------- 7.9/11.9 MB 10.1 MB/s eta 0:00:01\n",
      "     ----------------------------- ---------- 8.8/11.9 MB 10.4 MB/s eta 0:00:01\n",
      "     -------------------------------- ------- 9.6/11.9 MB 10.9 MB/s eta 0:00:01\n",
      "     --------------------------------- ----- 10.1/11.9 MB 10.8 MB/s eta 0:00:01\n",
      "     ------------------------------------ -- 11.1/11.9 MB 16.8 MB/s eta 0:00:01\n",
      "     --------------------------------------  11.8/11.9 MB 17.2 MB/s eta 0:00:01\n",
      "     --------------------------------------- 11.9/11.9 MB 15.6 MB/s eta 0:00:00\n",
      "  Preparing metadata (setup.py): started\n",
      "  Preparing metadata (setup.py): finished with status 'done'\n",
      "Building wheels for collected packages: mysql-connector\n",
      "  Building wheel for mysql-connector (setup.py): started\n",
      "  Building wheel for mysql-connector (setup.py): finished with status 'done'\n",
      "  Created wheel for mysql-connector: filename=mysql_connector-2.2.9-cp312-cp312-win_amd64.whl size=247958 sha256=7c682c8baa3c449e1a8756e5c898579bfc7916a0a10bc6066e31141ca62fbd44\n",
      "  Stored in directory: c:\\users\\samsung\\appdata\\local\\pip\\cache\\wheels\\03\\17\\fa\\d7604c72dd3dd6d3eb3d249abf36cc532c9a9b4354b8f1bc4f\n",
      "Successfully built mysql-connector\n",
      "Installing collected packages: mysql-connector\n",
      "Successfully installed mysql-connector-2.2.9\n"
     ]
    }
   ],
   "source": [
    "!pip install mysql-connector\n",
    "\n"
   ]
  },
  {
   "cell_type": "code",
   "execution_count": 14,
   "id": "164c2086-d107-496b-bb05-4200ff757105",
   "metadata": {},
   "outputs": [
    {
     "name": "stdout",
     "output_type": "stream",
     "text": [
      "Requirement already satisfied: easyocr in d:\\jupyter notebook\\lib\\site-packages (1.7.2)\n",
      "Requirement already satisfied: torch in d:\\jupyter notebook\\lib\\site-packages (from easyocr) (2.5.1)\n",
      "Requirement already satisfied: torchvision>=0.5 in d:\\jupyter notebook\\lib\\site-packages (from easyocr) (0.20.1)\n",
      "Requirement already satisfied: opencv-python-headless in d:\\jupyter notebook\\lib\\site-packages (from easyocr) (4.10.0.84)\n",
      "Requirement already satisfied: scipy in d:\\jupyter notebook\\lib\\site-packages (from easyocr) (1.13.1)\n",
      "Requirement already satisfied: numpy in d:\\jupyter notebook\\lib\\site-packages (from easyocr) (1.26.4)\n",
      "Requirement already satisfied: Pillow in d:\\jupyter notebook\\lib\\site-packages (from easyocr) (10.3.0)\n",
      "Requirement already satisfied: scikit-image in d:\\jupyter notebook\\lib\\site-packages (from easyocr) (0.23.2)\n",
      "Requirement already satisfied: python-bidi in d:\\jupyter notebook\\lib\\site-packages (from easyocr) (0.6.3)\n",
      "Requirement already satisfied: PyYAML in d:\\jupyter notebook\\lib\\site-packages (from easyocr) (6.0.1)\n",
      "Requirement already satisfied: Shapely in d:\\jupyter notebook\\lib\\site-packages (from easyocr) (2.0.6)\n",
      "Requirement already satisfied: pyclipper in d:\\jupyter notebook\\lib\\site-packages (from easyocr) (1.3.0.post6)\n",
      "Requirement already satisfied: ninja in d:\\jupyter notebook\\lib\\site-packages (from easyocr) (1.11.1.3)\n",
      "Requirement already satisfied: filelock in d:\\jupyter notebook\\lib\\site-packages (from torch->easyocr) (3.13.1)\n",
      "Requirement already satisfied: typing-extensions>=4.8.0 in d:\\jupyter notebook\\lib\\site-packages (from torch->easyocr) (4.11.0)\n",
      "Requirement already satisfied: networkx in d:\\jupyter notebook\\lib\\site-packages (from torch->easyocr) (3.2.1)\n",
      "Requirement already satisfied: jinja2 in d:\\jupyter notebook\\lib\\site-packages (from torch->easyocr) (3.1.4)\n",
      "Requirement already satisfied: fsspec in d:\\jupyter notebook\\lib\\site-packages (from torch->easyocr) (2024.3.1)\n",
      "Requirement already satisfied: setuptools in d:\\jupyter notebook\\lib\\site-packages (from torch->easyocr) (69.5.1)\n",
      "Requirement already satisfied: sympy==1.13.1 in d:\\jupyter notebook\\lib\\site-packages (from torch->easyocr) (1.13.1)\n",
      "Requirement already satisfied: mpmath<1.4,>=1.1.0 in d:\\jupyter notebook\\lib\\site-packages (from sympy==1.13.1->torch->easyocr) (1.3.0)\n",
      "Requirement already satisfied: imageio>=2.33 in d:\\jupyter notebook\\lib\\site-packages (from scikit-image->easyocr) (2.33.1)\n",
      "Requirement already satisfied: tifffile>=2022.8.12 in d:\\jupyter notebook\\lib\\site-packages (from scikit-image->easyocr) (2023.4.12)\n",
      "Requirement already satisfied: packaging>=21 in d:\\jupyter notebook\\lib\\site-packages (from scikit-image->easyocr) (23.2)\n",
      "Requirement already satisfied: lazy-loader>=0.4 in d:\\jupyter notebook\\lib\\site-packages (from scikit-image->easyocr) (0.4)\n",
      "Requirement already satisfied: MarkupSafe>=2.0 in d:\\jupyter notebook\\lib\\site-packages (from jinja2->torch->easyocr) (2.1.3)\n"
     ]
    }
   ],
   "source": [
    "!pip install easyocr\n"
   ]
  },
  {
   "cell_type": "code",
   "execution_count": 2,
   "id": "ed286d91-fbe2-4a6b-8f58-387f0ff622c1",
   "metadata": {},
   "outputs": [
    {
     "name": "stdout",
     "output_type": "stream",
     "text": [
      "Collecting streamlit_option_menu\n",
      "  Downloading streamlit_option_menu-0.4.0-py3-none-any.whl.metadata (2.5 kB)\n",
      "Collecting streamlit>=1.36 (from streamlit_option_menu)\n",
      "  Using cached streamlit-1.41.1-py2.py3-none-any.whl.metadata (8.5 kB)\n",
      "Requirement already satisfied: altair<6,>=4.0 in d:\\jupyter notebook\\lib\\site-packages (from streamlit>=1.36->streamlit_option_menu) (5.0.1)\n",
      "Requirement already satisfied: blinker<2,>=1.0.0 in d:\\jupyter notebook\\lib\\site-packages (from streamlit>=1.36->streamlit_option_menu) (1.6.2)\n",
      "Requirement already satisfied: cachetools<6,>=4.0 in d:\\jupyter notebook\\lib\\site-packages (from streamlit>=1.36->streamlit_option_menu) (5.3.3)\n",
      "Requirement already satisfied: click<9,>=7.0 in d:\\jupyter notebook\\lib\\site-packages (from streamlit>=1.36->streamlit_option_menu) (8.1.7)\n",
      "Requirement already satisfied: numpy<3,>=1.23 in d:\\jupyter notebook\\lib\\site-packages (from streamlit>=1.36->streamlit_option_menu) (1.26.4)\n",
      "Requirement already satisfied: packaging<25,>=20 in d:\\jupyter notebook\\lib\\site-packages (from streamlit>=1.36->streamlit_option_menu) (23.2)\n",
      "Requirement already satisfied: pandas<3,>=1.4.0 in d:\\jupyter notebook\\lib\\site-packages (from streamlit>=1.36->streamlit_option_menu) (2.2.2)\n",
      "Requirement already satisfied: pillow<12,>=7.1.0 in d:\\jupyter notebook\\lib\\site-packages (from streamlit>=1.36->streamlit_option_menu) (10.3.0)\n",
      "Requirement already satisfied: protobuf<6,>=3.20 in d:\\jupyter notebook\\lib\\site-packages (from streamlit>=1.36->streamlit_option_menu) (3.20.3)\n",
      "Requirement already satisfied: pyarrow>=7.0 in d:\\jupyter notebook\\lib\\site-packages (from streamlit>=1.36->streamlit_option_menu) (14.0.2)\n",
      "Requirement already satisfied: requests<3,>=2.27 in d:\\jupyter notebook\\lib\\site-packages (from streamlit>=1.36->streamlit_option_menu) (2.32.2)\n",
      "Requirement already satisfied: rich<14,>=10.14.0 in d:\\jupyter notebook\\lib\\site-packages (from streamlit>=1.36->streamlit_option_menu) (13.3.5)\n",
      "Requirement already satisfied: tenacity<10,>=8.1.0 in d:\\jupyter notebook\\lib\\site-packages (from streamlit>=1.36->streamlit_option_menu) (8.2.2)\n",
      "Requirement already satisfied: toml<2,>=0.10.1 in d:\\jupyter notebook\\lib\\site-packages (from streamlit>=1.36->streamlit_option_menu) (0.10.2)\n",
      "Requirement already satisfied: typing-extensions<5,>=4.3.0 in d:\\jupyter notebook\\lib\\site-packages (from streamlit>=1.36->streamlit_option_menu) (4.11.0)\n",
      "Requirement already satisfied: watchdog<7,>=2.1.5 in d:\\jupyter notebook\\lib\\site-packages (from streamlit>=1.36->streamlit_option_menu) (4.0.1)\n",
      "Requirement already satisfied: gitpython!=3.1.19,<4,>=3.0.7 in d:\\jupyter notebook\\lib\\site-packages (from streamlit>=1.36->streamlit_option_menu) (3.1.37)\n",
      "Requirement already satisfied: pydeck<1,>=0.8.0b4 in d:\\jupyter notebook\\lib\\site-packages (from streamlit>=1.36->streamlit_option_menu) (0.8.0)\n",
      "Requirement already satisfied: tornado<7,>=6.0.3 in d:\\jupyter notebook\\lib\\site-packages (from streamlit>=1.36->streamlit_option_menu) (6.4.1)\n",
      "Requirement already satisfied: jinja2 in d:\\jupyter notebook\\lib\\site-packages (from altair<6,>=4.0->streamlit>=1.36->streamlit_option_menu) (3.1.4)\n",
      "Requirement already satisfied: jsonschema>=3.0 in d:\\jupyter notebook\\lib\\site-packages (from altair<6,>=4.0->streamlit>=1.36->streamlit_option_menu) (4.19.2)\n",
      "Requirement already satisfied: toolz in d:\\jupyter notebook\\lib\\site-packages (from altair<6,>=4.0->streamlit>=1.36->streamlit_option_menu) (0.12.0)\n",
      "Requirement already satisfied: colorama in d:\\jupyter notebook\\lib\\site-packages (from click<9,>=7.0->streamlit>=1.36->streamlit_option_menu) (0.4.6)\n",
      "Requirement already satisfied: gitdb<5,>=4.0.1 in d:\\jupyter notebook\\lib\\site-packages (from gitpython!=3.1.19,<4,>=3.0.7->streamlit>=1.36->streamlit_option_menu) (4.0.7)\n",
      "Requirement already satisfied: python-dateutil>=2.8.2 in d:\\jupyter notebook\\lib\\site-packages (from pandas<3,>=1.4.0->streamlit>=1.36->streamlit_option_menu) (2.9.0.post0)\n",
      "Requirement already satisfied: pytz>=2020.1 in d:\\jupyter notebook\\lib\\site-packages (from pandas<3,>=1.4.0->streamlit>=1.36->streamlit_option_menu) (2024.1)\n",
      "Requirement already satisfied: tzdata>=2022.7 in d:\\jupyter notebook\\lib\\site-packages (from pandas<3,>=1.4.0->streamlit>=1.36->streamlit_option_menu) (2023.3)\n",
      "Requirement already satisfied: charset-normalizer<4,>=2 in d:\\jupyter notebook\\lib\\site-packages (from requests<3,>=2.27->streamlit>=1.36->streamlit_option_menu) (2.0.4)\n",
      "Requirement already satisfied: idna<4,>=2.5 in d:\\jupyter notebook\\lib\\site-packages (from requests<3,>=2.27->streamlit>=1.36->streamlit_option_menu) (3.7)\n",
      "Requirement already satisfied: urllib3<3,>=1.21.1 in d:\\jupyter notebook\\lib\\site-packages (from requests<3,>=2.27->streamlit>=1.36->streamlit_option_menu) (2.2.2)\n",
      "Requirement already satisfied: certifi>=2017.4.17 in d:\\jupyter notebook\\lib\\site-packages (from requests<3,>=2.27->streamlit>=1.36->streamlit_option_menu) (2024.7.4)\n",
      "Requirement already satisfied: markdown-it-py<3.0.0,>=2.2.0 in d:\\jupyter notebook\\lib\\site-packages (from rich<14,>=10.14.0->streamlit>=1.36->streamlit_option_menu) (2.2.0)\n",
      "Requirement already satisfied: pygments<3.0.0,>=2.13.0 in d:\\jupyter notebook\\lib\\site-packages (from rich<14,>=10.14.0->streamlit>=1.36->streamlit_option_menu) (2.15.1)\n",
      "Requirement already satisfied: smmap<5,>=3.0.1 in d:\\jupyter notebook\\lib\\site-packages (from gitdb<5,>=4.0.1->gitpython!=3.1.19,<4,>=3.0.7->streamlit>=1.36->streamlit_option_menu) (4.0.0)\n",
      "Requirement already satisfied: MarkupSafe>=2.0 in d:\\jupyter notebook\\lib\\site-packages (from jinja2->altair<6,>=4.0->streamlit>=1.36->streamlit_option_menu) (2.1.3)\n",
      "Requirement already satisfied: attrs>=22.2.0 in d:\\jupyter notebook\\lib\\site-packages (from jsonschema>=3.0->altair<6,>=4.0->streamlit>=1.36->streamlit_option_menu) (23.1.0)\n",
      "Requirement already satisfied: jsonschema-specifications>=2023.03.6 in d:\\jupyter notebook\\lib\\site-packages (from jsonschema>=3.0->altair<6,>=4.0->streamlit>=1.36->streamlit_option_menu) (2023.7.1)\n",
      "Requirement already satisfied: referencing>=0.28.4 in d:\\jupyter notebook\\lib\\site-packages (from jsonschema>=3.0->altair<6,>=4.0->streamlit>=1.36->streamlit_option_menu) (0.30.2)\n",
      "Requirement already satisfied: rpds-py>=0.7.1 in d:\\jupyter notebook\\lib\\site-packages (from jsonschema>=3.0->altair<6,>=4.0->streamlit>=1.36->streamlit_option_menu) (0.10.6)\n",
      "Requirement already satisfied: mdurl~=0.1 in d:\\jupyter notebook\\lib\\site-packages (from markdown-it-py<3.0.0,>=2.2.0->rich<14,>=10.14.0->streamlit>=1.36->streamlit_option_menu) (0.1.0)\n",
      "Requirement already satisfied: six>=1.5 in d:\\jupyter notebook\\lib\\site-packages (from python-dateutil>=2.8.2->pandas<3,>=1.4.0->streamlit>=1.36->streamlit_option_menu) (1.16.0)\n",
      "Downloading streamlit_option_menu-0.4.0-py3-none-any.whl (829 kB)\n",
      "   ---------------------------------------- 0.0/829.3 kB ? eta -:--:--\n",
      "   ---------------------------------------- 10.2/829.3 kB ? eta -:--:--\n",
      "   ---------------------------------------- 10.2/829.3 kB ? eta -:--:--\n",
      "   ---------------------------------------- 10.2/829.3 kB ? eta -:--:--\n",
      "   - ------------------------------------- 30.7/829.3 kB 163.8 kB/s eta 0:00:05\n",
      "   - ------------------------------------- 41.0/829.3 kB 164.3 kB/s eta 0:00:05\n",
      "   --- ----------------------------------- 81.9/829.3 kB 286.7 kB/s eta 0:00:03\n",
      "   ----- -------------------------------- 112.6/829.3 kB 364.4 kB/s eta 0:00:02\n",
      "   --------- ---------------------------- 204.8/829.3 kB 565.6 kB/s eta 0:00:02\n",
      "   ----------- -------------------------- 256.0/829.3 kB 655.4 kB/s eta 0:00:01\n",
      "   ------------------------- -------------- 522.2/829.3 kB 1.2 MB/s eta 0:00:01\n",
      "   --------------------------- ------------ 573.4/829.3 kB 1.2 MB/s eta 0:00:01\n",
      "   ---------------------------------------- 829.3/829.3 kB 1.5 MB/s eta 0:00:00\n",
      "Using cached streamlit-1.41.1-py2.py3-none-any.whl (9.1 MB)\n",
      "Installing collected packages: streamlit, streamlit_option_menu\n",
      "  Attempting uninstall: streamlit\n",
      "    Found existing installation: streamlit 1.32.0\n",
      "    Uninstalling streamlit-1.32.0:\n",
      "      Successfully uninstalled streamlit-1.32.0\n",
      "Successfully installed streamlit-1.41.1 streamlit_option_menu-0.4.0\n"
     ]
    }
   ],
   "source": [
    "! pip install streamlit_option_menu"
   ]
  },
  {
   "cell_type": "code",
   "execution_count": 4,
   "id": "f30cb684-ebb5-4a2f-ab87-6fadd7a905d2",
   "metadata": {},
   "outputs": [
    {
     "name": "stderr",
     "output_type": "stream",
     "text": [
      "2025-01-03 10:47:17.481 WARNING streamlit.runtime.scriptrunner_utils.script_run_context: Thread 'MainThread': missing ScriptRunContext! This warning can be ignored when running in bare mode.\n"
     ]
    }
   ],
   "source": [
    "import streamlit as st\n",
    "from streamlit_option_menu import option_menu"
   ]
  },
  {
   "cell_type": "code",
   "execution_count": null,
   "id": "48b1b8ce-4a92-49c9-9ef2-3dbca69dbfd3",
   "metadata": {},
   "outputs": [],
   "source": [
    "import easyocr\n",
    "from PIL import Image"
   ]
  },
  {
   "cell_type": "code",
   "execution_count": 1,
   "id": "396c426f-fcf3-4aad-9fad-e14a9e7c7af5",
   "metadata": {},
   "outputs": [],
   "source": [
    "import pandas as pd\n",
    "import numpy as np"
   ]
  },
  {
   "cell_type": "code",
   "execution_count": null,
   "id": "88fe122c-e062-4894-9a66-0fb54d6b5bd9",
   "metadata": {},
   "outputs": [],
   "source": []
  },
  {
   "cell_type": "code",
   "execution_count": null,
   "id": "0f2212a1-15ef-4367-8199-887e61810102",
   "metadata": {},
   "outputs": [],
   "source": [
    "\n",
    "import streamlit as st\n",
    "\n",
    "import mysql.connector as sql\n",
    "import os\n",
    "import re\n",
    "\n",
    "import io"
   ]
  }
 ],
 "metadata": {
  "kernelspec": {
   "display_name": "Python 3 (ipykernel)",
   "language": "python",
   "name": "python3"
  },
  "language_info": {
   "codemirror_mode": {
    "name": "ipython",
    "version": 3
   },
   "file_extension": ".py",
   "mimetype": "text/x-python",
   "name": "python",
   "nbconvert_exporter": "python",
   "pygments_lexer": "ipython3",
   "version": "3.12.4"
  }
 },
 "nbformat": 4,
 "nbformat_minor": 5
}
