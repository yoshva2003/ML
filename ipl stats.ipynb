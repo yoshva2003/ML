{
 "cells": [
  {
   "cell_type": "code",
   "execution_count": 1,
   "id": "a5f084c3-95de-4bc9-a5d5-af89d8a5f872",
   "metadata": {},
   "outputs": [],
   "source": [
    "import pandas as pd "
   ]
  },
  {
   "cell_type": "code",
   "execution_count": 3,
   "id": "5996c32d-ad8b-4b76-b7de-ca9b9c4bc41f",
   "metadata": {},
   "outputs": [],
   "source": [
    "df=pd.read_csv('matches.csv')"
   ]
  },
  {
   "cell_type": "code",
   "execution_count": 5,
   "id": "cfc70a87-a553-44db-8eac-203a6ba9d5b8",
   "metadata": {},
   "outputs": [
    {
     "data": {
      "text/html": [
       "<div>\n",
       "<style scoped>\n",
       "    .dataframe tbody tr th:only-of-type {\n",
       "        vertical-align: middle;\n",
       "    }\n",
       "\n",
       "    .dataframe tbody tr th {\n",
       "        vertical-align: top;\n",
       "    }\n",
       "\n",
       "    .dataframe thead th {\n",
       "        text-align: right;\n",
       "    }\n",
       "</style>\n",
       "<table border=\"1\" class=\"dataframe\">\n",
       "  <thead>\n",
       "    <tr style=\"text-align: right;\">\n",
       "      <th></th>\n",
       "      <th>match_id</th>\n",
       "      <th>date</th>\n",
       "      <th>venue</th>\n",
       "      <th>team1</th>\n",
       "      <th>team2</th>\n",
       "      <th>stage</th>\n",
       "      <th>toss_winner</th>\n",
       "      <th>toss_decision</th>\n",
       "      <th>first_ings_score</th>\n",
       "      <th>first_ings_wkts</th>\n",
       "      <th>second_ings_score</th>\n",
       "      <th>second_ings_wkts</th>\n",
       "      <th>match_winner</th>\n",
       "      <th>won_by</th>\n",
       "      <th>balls_left</th>\n",
       "      <th>player_of_the_match</th>\n",
       "      <th>top_scorer</th>\n",
       "      <th>highscore</th>\n",
       "      <th>best_bowling</th>\n",
       "      <th>best_bowling_figure</th>\n",
       "    </tr>\n",
       "  </thead>\n",
       "  <tbody>\n",
       "    <tr>\n",
       "      <th>0</th>\n",
       "      <td>1</td>\n",
       "      <td>March 22,2025</td>\n",
       "      <td>Eden Gardens, Kolkata</td>\n",
       "      <td>KKR</td>\n",
       "      <td>RCB</td>\n",
       "      <td>League</td>\n",
       "      <td>RCB</td>\n",
       "      <td>Bowl</td>\n",
       "      <td>174</td>\n",
       "      <td>8</td>\n",
       "      <td>177</td>\n",
       "      <td>3</td>\n",
       "      <td>RCB</td>\n",
       "      <td>7 wickets</td>\n",
       "      <td>22</td>\n",
       "      <td>Krunal Pandya</td>\n",
       "      <td>Virat Kohli</td>\n",
       "      <td>59</td>\n",
       "      <td>Krunal Pandya</td>\n",
       "      <td>3--29</td>\n",
       "    </tr>\n",
       "    <tr>\n",
       "      <th>1</th>\n",
       "      <td>2</td>\n",
       "      <td>March 23,2025</td>\n",
       "      <td>Rajiv Gandhi International Stadium, Hyderabad</td>\n",
       "      <td>SRH</td>\n",
       "      <td>RR</td>\n",
       "      <td>League</td>\n",
       "      <td>RR</td>\n",
       "      <td>Bowl</td>\n",
       "      <td>286</td>\n",
       "      <td>6</td>\n",
       "      <td>242</td>\n",
       "      <td>6</td>\n",
       "      <td>SRH</td>\n",
       "      <td>44 runs</td>\n",
       "      <td>0</td>\n",
       "      <td>Ishan Kishan</td>\n",
       "      <td>Ishan Kishan</td>\n",
       "      <td>106</td>\n",
       "      <td>Tushar Deshpande</td>\n",
       "      <td>3--44</td>\n",
       "    </tr>\n",
       "    <tr>\n",
       "      <th>2</th>\n",
       "      <td>3</td>\n",
       "      <td>March 23,2025</td>\n",
       "      <td>MA Chidambaram Stadium, Chennai</td>\n",
       "      <td>CSK</td>\n",
       "      <td>MI</td>\n",
       "      <td>League</td>\n",
       "      <td>CSK</td>\n",
       "      <td>Bowl</td>\n",
       "      <td>155</td>\n",
       "      <td>9</td>\n",
       "      <td>158</td>\n",
       "      <td>6</td>\n",
       "      <td>CSK</td>\n",
       "      <td>4 wickets</td>\n",
       "      <td>5</td>\n",
       "      <td>Noor Ahmad</td>\n",
       "      <td>Rachin Ravindra</td>\n",
       "      <td>65</td>\n",
       "      <td>Noor Ahmad</td>\n",
       "      <td>4--18</td>\n",
       "    </tr>\n",
       "    <tr>\n",
       "      <th>3</th>\n",
       "      <td>4</td>\n",
       "      <td>March 24,2025</td>\n",
       "      <td>ACA-VDCA Cricket Stadium, Vishakhapatnam</td>\n",
       "      <td>DC</td>\n",
       "      <td>LSG</td>\n",
       "      <td>League</td>\n",
       "      <td>DC</td>\n",
       "      <td>Bowl</td>\n",
       "      <td>209</td>\n",
       "      <td>8</td>\n",
       "      <td>211</td>\n",
       "      <td>9</td>\n",
       "      <td>DC</td>\n",
       "      <td>1 wickets</td>\n",
       "      <td>3</td>\n",
       "      <td>Ashutosh Sharma</td>\n",
       "      <td>Nicholas Pooran</td>\n",
       "      <td>75</td>\n",
       "      <td>Mitchell Starc</td>\n",
       "      <td>3--42</td>\n",
       "    </tr>\n",
       "    <tr>\n",
       "      <th>4</th>\n",
       "      <td>5</td>\n",
       "      <td>March 25,2025</td>\n",
       "      <td>Narendra Modi Stadium, Ahmedabad</td>\n",
       "      <td>GT</td>\n",
       "      <td>PBKS</td>\n",
       "      <td>League</td>\n",
       "      <td>GT</td>\n",
       "      <td>Bowl</td>\n",
       "      <td>243</td>\n",
       "      <td>5</td>\n",
       "      <td>232</td>\n",
       "      <td>5</td>\n",
       "      <td>PBKS</td>\n",
       "      <td>11 runs</td>\n",
       "      <td>0</td>\n",
       "      <td>Shreyas Iyer</td>\n",
       "      <td>Shreyas Iyer</td>\n",
       "      <td>97</td>\n",
       "      <td>Sai Kishore</td>\n",
       "      <td>3--30</td>\n",
       "    </tr>\n",
       "  </tbody>\n",
       "</table>\n",
       "</div>"
      ],
      "text/plain": [
       "   match_id           date                                          venue  \\\n",
       "0         1  March 22,2025                          Eden Gardens, Kolkata   \n",
       "1         2  March 23,2025  Rajiv Gandhi International Stadium, Hyderabad   \n",
       "2         3  March 23,2025                MA Chidambaram Stadium, Chennai   \n",
       "3         4  March 24,2025       ACA-VDCA Cricket Stadium, Vishakhapatnam   \n",
       "4         5  March 25,2025               Narendra Modi Stadium, Ahmedabad   \n",
       "\n",
       "  team1 team2   stage toss_winner toss_decision  first_ings_score  \\\n",
       "0   KKR   RCB  League         RCB          Bowl               174   \n",
       "1   SRH    RR  League          RR          Bowl               286   \n",
       "2   CSK    MI  League         CSK          Bowl               155   \n",
       "3    DC   LSG  League          DC          Bowl               209   \n",
       "4    GT  PBKS  League          GT          Bowl               243   \n",
       "\n",
       "   first_ings_wkts  second_ings_score  second_ings_wkts match_winner  \\\n",
       "0                8                177                 3          RCB   \n",
       "1                6                242                 6          SRH   \n",
       "2                9                158                 6          CSK   \n",
       "3                8                211                 9           DC   \n",
       "4                5                232                 5         PBKS   \n",
       "\n",
       "      won_by  balls_left player_of_the_match       top_scorer  highscore  \\\n",
       "0  7 wickets          22       Krunal Pandya      Virat Kohli         59   \n",
       "1    44 runs           0        Ishan Kishan     Ishan Kishan        106   \n",
       "2  4 wickets           5          Noor Ahmad  Rachin Ravindra         65   \n",
       "3  1 wickets           3     Ashutosh Sharma  Nicholas Pooran         75   \n",
       "4    11 runs           0        Shreyas Iyer     Shreyas Iyer         97   \n",
       "\n",
       "       best_bowling best_bowling_figure  \n",
       "0     Krunal Pandya               3--29  \n",
       "1  Tushar Deshpande               3--44  \n",
       "2        Noor Ahmad               4--18  \n",
       "3    Mitchell Starc               3--42  \n",
       "4       Sai Kishore               3--30  "
      ]
     },
     "execution_count": 5,
     "metadata": {},
     "output_type": "execute_result"
    }
   ],
   "source": [
    "df.head()"
   ]
  },
  {
   "cell_type": "markdown",
   "id": "96be7a68-7907-4818-816c-3e15eeef1b24",
   "metadata": {},
   "source": [
    "##  Who scored the highest individual score?"
   ]
  },
  {
   "cell_type": "code",
   "execution_count": 10,
   "id": "50507352-05f1-405f-a42b-a0c0e76b9c14",
   "metadata": {},
   "outputs": [
    {
     "data": {
      "text/html": [
       "<div>\n",
       "<style scoped>\n",
       "    .dataframe tbody tr th:only-of-type {\n",
       "        vertical-align: middle;\n",
       "    }\n",
       "\n",
       "    .dataframe tbody tr th {\n",
       "        vertical-align: top;\n",
       "    }\n",
       "\n",
       "    .dataframe thead th {\n",
       "        text-align: right;\n",
       "    }\n",
       "</style>\n",
       "<table border=\"1\" class=\"dataframe\">\n",
       "  <thead>\n",
       "    <tr style=\"text-align: right;\">\n",
       "      <th></th>\n",
       "      <th>top_scorer</th>\n",
       "      <th>highscore</th>\n",
       "    </tr>\n",
       "  </thead>\n",
       "  <tbody>\n",
       "    <tr>\n",
       "      <th>26</th>\n",
       "      <td>Abhishek Sharma</td>\n",
       "      <td>141</td>\n",
       "    </tr>\n",
       "  </tbody>\n",
       "</table>\n",
       "</div>"
      ],
      "text/plain": [
       "         top_scorer  highscore\n",
       "26  Abhishek Sharma        141"
      ]
     },
     "execution_count": 10,
     "metadata": {},
     "output_type": "execute_result"
    }
   ],
   "source": [
    "df[df['highscore']== df['highscore'].max()][['top_scorer', 'highscore']]"
   ]
  },
  {
   "cell_type": "markdown",
   "id": "93025ffa-413e-475f-90a3-f1147772d70e",
   "metadata": {},
   "source": [
    "## Most frequent player of the match "
   ]
  },
  {
   "cell_type": "code",
   "execution_count": 12,
   "id": "bc2af988-4af1-48dd-b2ac-958ec7c12c51",
   "metadata": {},
   "outputs": [
    {
     "data": {
      "text/plain": [
       "'KL Rahul'"
      ]
     },
     "execution_count": 12,
     "metadata": {},
     "output_type": "execute_result"
    }
   ],
   "source": [
    "df['player_of_the_match'].value_counts().idxmax()"
   ]
  },
  {
   "cell_type": "markdown",
   "id": "997011e7-a503-43bf-b2bb-a5e92b2ce5f2",
   "metadata": {},
   "source": [
    "## Highest first inning score "
   ]
  },
  {
   "cell_type": "code",
   "execution_count": 15,
   "id": "1e78097f-8124-4f70-b0ee-e2950c3847f2",
   "metadata": {},
   "outputs": [
    {
     "data": {
      "text/html": [
       "<div>\n",
       "<style scoped>\n",
       "    .dataframe tbody tr th:only-of-type {\n",
       "        vertical-align: middle;\n",
       "    }\n",
       "\n",
       "    .dataframe tbody tr th {\n",
       "        vertical-align: top;\n",
       "    }\n",
       "\n",
       "    .dataframe thead th {\n",
       "        text-align: right;\n",
       "    }\n",
       "</style>\n",
       "<table border=\"1\" class=\"dataframe\">\n",
       "  <thead>\n",
       "    <tr style=\"text-align: right;\">\n",
       "      <th></th>\n",
       "      <th>team1</th>\n",
       "      <th>first_ings_score</th>\n",
       "    </tr>\n",
       "  </thead>\n",
       "  <tbody>\n",
       "    <tr>\n",
       "      <th>1</th>\n",
       "      <td>SRH</td>\n",
       "      <td>286</td>\n",
       "    </tr>\n",
       "  </tbody>\n",
       "</table>\n",
       "</div>"
      ],
      "text/plain": [
       "  team1  first_ings_score\n",
       "1   SRH               286"
      ]
     },
     "execution_count": 15,
     "metadata": {},
     "output_type": "execute_result"
    }
   ],
   "source": [
    "df[df['first_ings_score'] == df['first_ings_score'].max()][['team1', 'first_ings_score']]"
   ]
  },
  {
   "cell_type": "code",
   "execution_count": null,
   "id": "02968abd-37bd-4b01-8e25-286ffc5bd837",
   "metadata": {},
   "outputs": [],
   "source": []
  }
 ],
 "metadata": {
  "kernelspec": {
   "display_name": "Python 3 (ipykernel)",
   "language": "python",
   "name": "python3"
  },
  "language_info": {
   "codemirror_mode": {
    "name": "ipython",
    "version": 3
   },
   "file_extension": ".py",
   "mimetype": "text/x-python",
   "name": "python",
   "nbconvert_exporter": "python",
   "pygments_lexer": "ipython3",
   "version": "3.12.4"
  }
 },
 "nbformat": 4,
 "nbformat_minor": 5
}
