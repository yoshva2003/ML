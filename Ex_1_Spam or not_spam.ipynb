{
 "cells": [
  {
   "cell_type": "code",
   "execution_count": 7,
   "id": "1e5c7963",
   "metadata": {},
   "outputs": [
    {
     "name": "stdout",
     "output_type": "stream",
     "text": [
      "Accuracy: 0.3333333333333333\n",
      "Classification Report: \n",
      "              precision    recall  f1-score   support\n",
      "\n",
      "    personal       0.33      1.00      0.50         1\n",
      "        work       0.00      0.00      0.00         2\n",
      "\n",
      "    accuracy                           0.33         3\n",
      "   macro avg       0.17      0.50      0.25         3\n",
      "weighted avg       0.11      0.33      0.17         3\n",
      "\n",
      "New Email: 'Hi John, just checking in to see if we’re still on for lunch tomorrow. Let me know what time works for you!'\n",
      "Prediction: personal\n"
     ]
    },
    {
     "name": "stderr",
     "output_type": "stream",
     "text": [
      "C:\\ProgramData\\Anaconda3\\lib\\site-packages\\sklearn\\metrics\\_classification.py:1318: UndefinedMetricWarning: Precision and F-score are ill-defined and being set to 0.0 in labels with no predicted samples. Use `zero_division` parameter to control this behavior.\n",
      "  _warn_prf(average, modifier, msg_start, len(result))\n",
      "C:\\ProgramData\\Anaconda3\\lib\\site-packages\\sklearn\\metrics\\_classification.py:1318: UndefinedMetricWarning: Precision and F-score are ill-defined and being set to 0.0 in labels with no predicted samples. Use `zero_division` parameter to control this behavior.\n",
      "  _warn_prf(average, modifier, msg_start, len(result))\n",
      "C:\\ProgramData\\Anaconda3\\lib\\site-packages\\sklearn\\metrics\\_classification.py:1318: UndefinedMetricWarning: Precision and F-score are ill-defined and being set to 0.0 in labels with no predicted samples. Use `zero_division` parameter to control this behavior.\n",
      "  _warn_prf(average, modifier, msg_start, len(result))\n"
     ]
    }
   ],
   "source": [
    "import pandas as pd\n",
    "from sklearn.feature_extraction.text import CountVectorizer\n",
    "from sklearn.model_selection import train_test_split\n",
    "from sklearn.naive_bayes import MultinomialNB\n",
    "from sklearn.metrics import accuracy_score, classification_report\n",
    "\n",
    "# Sample data\n",
    "data = {\n",
    "    \"message\": [\n",
    "        \"Hi John, just checking in to see if we’re still on for lunch tomorrow. Let me know what time works for you!\",\n",
    "        \"Limited time offer: Get 50% off your next purchase. Act now before it's too late!\",\n",
    "        \"Dear friend, we noticed your account has been inactive. Please verify your details by logging in here.\",\n",
    "        \"Hey, are you free to chat later today? Let me know when you're available!\",\n",
    "        \"Get your free trial today! Don't miss out on the exclusive deal for premium services!\",\n",
    "        \"Reminder: Your dentist appointment is at 3:00 PM tomorrow. Let us know if you need to reschedule.\",\n",
    "        \"You’ve been selected for a special offer. Click here to claim your reward!\",\n",
    "        \"Good morning! Please find the attached document I mentioned last week.\",\n",
    "        \"Win an iPhone 15 today! Just pay shipping and handling to receive your prize.\",\n",
    "        \"Hey Sarah, here’s the updated report I was talking about. Let me know if you have any questions.\",\n",
    "        \"Free cruise tickets for you and a guest! Just fill out a quick survey and you're all set.\",\n",
    "        \"Looking forward to our meeting this Friday. Please let me know if you need any further information.\",\n",
    "        \"Exclusive offer! Get a 30% discount on all luxury watches. Shop now before they’re gone!\",\n",
    "        \"It was great seeing you last weekend. Hope you’re doing well!\"\n",
    "    ],\n",
    "    \"label\": [\n",
    "        \"personal\", \"promotion\", \"spam\", \"personal\", \"promotion\", \"reminder\", \"spam\", \"work\", \n",
    "        \"spam\", \"work\", \"spam\", \"work\", \"promotion\", \"personal\"\n",
    "    ]\n",
    "}\n",
    "\n",
    "# Create DataFrame\n",
    "df = pd.DataFrame(data)\n",
    "\n",
    "# Split the data\n",
    "X_train, X_test, y_train, y_test = train_test_split(df['message'], df['label'], test_size=0.2, random_state=42)\n",
    "\n",
    "# Transform text data to feature vectors\n",
    "vectorizer = CountVectorizer()\n",
    "X_train_vectorized = vectorizer.fit_transform(X_train)\n",
    "X_test_vectorized = vectorizer.transform(X_test)\n",
    "\n",
    "# Train the model\n",
    "model = MultinomialNB()\n",
    "model.fit(X_train_vectorized, y_train)\n",
    "\n",
    "# Make predictions\n",
    "y_pred = model.predict(X_test_vectorized)\n",
    "\n",
    "# Calculate accuracy\n",
    "accuracy = accuracy_score(y_test, y_pred)\n",
    "print(f'Accuracy: {accuracy}')\n",
    "\n",
    "# Classification report\n",
    "report = classification_report(y_test, y_pred)\n",
    "print(f'Classification Report: \\n{report}')\n",
    "\n",
    "# Predict function for new emails\n",
    "def predict_spam(email):\n",
    "    email_vectorized = vectorizer.transform([email])\n",
    "    prediction = model.predict(email_vectorized)\n",
    "    return prediction[0]\n",
    "\n",
    "# Test the function with a new email\n",
    "new_email = \"Hi John, just checking in to see if we’re still on for lunch tomorrow. Let me know what time works for you!\"\n",
    "result = predict_spam(new_email)\n",
    "print(f\"New Email: '{new_email}'\\nPrediction: {result}\")"
   ]
  },
  {
   "cell_type": "code",
   "execution_count": null,
   "id": "30fd3991",
   "metadata": {},
   "outputs": [],
   "source": []
  }
 ],
 "metadata": {
  "kernelspec": {
   "display_name": "Python 3 (ipykernel)",
   "language": "python",
   "name": "python3"
  },
  "language_info": {
   "codemirror_mode": {
    "name": "ipython",
    "version": 3
   },
   "file_extension": ".py",
   "mimetype": "text/x-python",
   "name": "python",
   "nbconvert_exporter": "python",
   "pygments_lexer": "ipython3",
   "version": "3.9.12"
  }
 },
 "nbformat": 4,
 "nbformat_minor": 5
}
