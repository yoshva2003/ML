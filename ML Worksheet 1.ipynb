{
 "cells": [
  {
   "cell_type": "code",
   "execution_count": null,
   "id": "4bb7c492-d240-40c0-bf8c-e3bbe97d4d98",
   "metadata": {},
   "outputs": [],
   "source": [
    "import pandas as pd\n",
    "import numpy as np\n",
    "import json\n",
    "import xml.etree.ElementTree as ET\n",
    "from matplotlib import pyplot as plt\n",
    "from PIL import Image\n",
    "import cv2\n",
    "import librosa\n",
    "import librosa.display\n",
    "from wordcloud import WordCloud\n",
    "\n",
    "# Tabular Data\n",
    "def read_tabular(file_path):\n",
    "    data = pd.read_csv(file_path)  # Example for CSV\n",
    "    print(f\"Size: {data.size}, Shape: {data.shape}, Columns: {data.columns}\")\n",
    "    data.head().plot(kind='bar')\n",
    "    plt.show()\n",
    "\n",
    "# Image Data\n",
    "def read_image(file_path):\n",
    "    img = Image.open(file_path)\n",
    "    print(f\"Image size: {img.size}\")\n",
    "    plt.imshow(img)\n",
    "    plt.axis('off')\n",
    "    plt.show()\n",
    "\n",
    "# Video Data\n",
    "def play_video(file_path):\n",
    "    cap = cv2.VideoCapture(file_path)\n",
    "    while cap.isOpened():\n",
    "        ret, frame = cap.read()\n",
    "        if not ret:\n",
    "            break\n",
    "        cv2.imshow('Video', frame)\n",
    "        if cv2.waitKey(25) & 0xFF == ord('q'):\n",
    "            break\n",
    "    cap.release()\n",
    "    cv2.destroyAllWindows()\n",
    "\n",
    "# Audio Data\n",
    "def visualize_audio(file_path):\n",
    "    y, sr = librosa.load(file_path)\n",
    "    librosa.display.waveshow(y, sr=sr)\n",
    "    plt.title(\"Audio Waveform\")\n",
    "    plt.show()\n",
    "\n",
    "# Text Data\n",
    "def visualize_text(file_path):\n",
    "    with open(file_path, 'r') as f:\n",
    "        text = f.read()\n",
    "    wordcloud = WordCloud(width=800, height=400).generate(text)\n",
    "    plt.imshow(wordcloud, interpolation='bilinear')\n",
    "    plt.axis('off')\n",
    "    plt.show()\n",
    "\n",
    "# Example Calls\n",
    "read_tabular(\"example.csv\")\n",
    "read_image(\"example.jpg\")\n",
    "play_video(\"example.mp4\")\n",
    "visualize_audio(\"example.wav\")\n",
    "visualize_text(\"example.txt\")\n"
   ]
  },
  {
   "cell_type": "code",
   "execution_count": 11,
   "id": "445ac809-3c7e-46b0-8cd1-711048f735b9",
   "metadata": {},
   "outputs": [],
   "source": [
    "import pandas as pd\n",
    "import numpy as np\n",
    "import json\n",
    "import xml.etree.ElementTree as ET\n",
    "from matplotlib import pyplot as plt\n",
    "from PIL import Image\n",
    "\n",
    "\n",
    "# Tabular Data\n",
    "def read_tabular(file_path):\n",
    "    data = pd.read_csv('mall customers.csv')  # Example for CSV\n",
    "    print(f\"Size: {data.size}, Shape: {data.shape}, Columns: {data.columns}\")\n",
    "    data.head().plot(kind='bar')\n",
    "    plt.show()"
   ]
  },
  {
   "cell_type": "code",
   "execution_count": 13,
   "id": "ae827e27-e4dd-4c87-9b5e-b7f3c41b3d49",
   "metadata": {},
   "outputs": [
    {
     "name": "stdout",
     "output_type": "stream",
     "text": [
      "   CustomerID  Gender  Age  Annual Income (k$)  Spending Score (1-100)\n",
      "0           1    Male   19                  15                      39\n",
      "1           2    Male   21                  15                      81\n",
      "2           3  Female   20                  16                       6\n",
      "3           4  Female   23                  16                      77\n",
      "4           5  Female   31                  17                      40\n"
     ]
    }
   ],
   "source": [
    "import pandas as pd\n",
    "df=pd.read_csv('mall customers.csv')\n",
    "print(df.head())"
   ]
  },
  {
   "cell_type": "code",
   "execution_count": 15,
   "id": "6a4ace27-5ec3-48eb-9b30-b0f987dd0712",
   "metadata": {},
   "outputs": [
    {
     "name": "stdout",
     "output_type": "stream",
     "text": [
      "(673, 1200)\n"
     ]
    }
   ],
   "source": [
    "from PIL import Image\n",
    "img = Image.open(\"Cute ghosts.jpeg\")\n",
    "print(img.size)  # (width, height)\n"
   ]
  },
  {
   "cell_type": "code",
   "execution_count": null,
   "id": "c6e07473-6549-42e2-9c43-707172484b3d",
   "metadata": {},
   "outputs": [],
   "source": []
  },
  {
   "cell_type": "code",
   "execution_count": 25,
   "id": "f8e915f4-6bca-4d7a-82d5-9dda081af97c",
   "metadata": {},
   "outputs": [
    {
     "ename": "SyntaxError",
     "evalue": "invalid syntax (1882077979.py, line 1)",
     "output_type": "error",
     "traceback": [
      "\u001b[1;36m  Cell \u001b[1;32mIn[25], line 1\u001b[1;36m\u001b[0m\n\u001b[1;33m    pip install opencv-python\u001b[0m\n\u001b[1;37m        ^\u001b[0m\n\u001b[1;31mSyntaxError\u001b[0m\u001b[1;31m:\u001b[0m invalid syntax\n"
     ]
    }
   ],
   "source": []
  },
  {
   "cell_type": "code",
   "execution_count": null,
   "id": "4129c3a4-2c6f-4d27-9067-754767423d32",
   "metadata": {},
   "outputs": [],
   "source": []
  },
  {
   "cell_type": "code",
   "execution_count": 29,
   "id": "672989d7-55d4-4135-82c8-a15c163add5b",
   "metadata": {},
   "outputs": [
    {
     "data": {
      "text/plain": [
       "7"
      ]
     },
     "execution_count": 29,
     "metadata": {},
     "output_type": "execute_result"
    }
   ],
   "source": [
    "5+2"
   ]
  },
  {
   "cell_type": "code",
   "execution_count": 27,
   "id": "80f279f4-e3e8-41c2-8090-748f7bd48a53",
   "metadata": {},
   "outputs": [
    {
     "name": "stdout",
     "output_type": "stream",
     "text": [
      "2\n"
     ]
    }
   ],
   "source": [
    "a=5-3\n",
    "print(a)"
   ]
  },
  {
   "cell_type": "code",
   "execution_count": null,
   "id": "1e91b23b-5bac-43d1-852e-fccf48c85e96",
   "metadata": {},
   "outputs": [],
   "source": []
  }
 ],
 "metadata": {
  "kernelspec": {
   "display_name": "Python 3 (ipykernel)",
   "language": "python",
   "name": "python3"
  },
  "language_info": {
   "codemirror_mode": {
    "name": "ipython",
    "version": 3
   },
   "file_extension": ".py",
   "mimetype": "text/x-python",
   "name": "python",
   "nbconvert_exporter": "python",
   "pygments_lexer": "ipython3",
   "version": "3.12.4"
  }
 },
 "nbformat": 4,
 "nbformat_minor": 5
}
