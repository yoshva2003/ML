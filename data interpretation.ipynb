{
 "cells": [
  {
   "cell_type": "code",
   "execution_count": 1,
   "id": "3ac79262-355c-4cdf-bdf5-c5c3d81225a9",
   "metadata": {},
   "outputs": [],
   "source": [
    "import pandas as pd"
   ]
  },
  {
   "cell_type": "code",
   "execution_count": 3,
   "id": "031cc346-5cb1-4448-8172-bd04ea0132f1",
   "metadata": {},
   "outputs": [
    {
     "data": {
      "text/html": [
       "<div>\n",
       "<style scoped>\n",
       "    .dataframe tbody tr th:only-of-type {\n",
       "        vertical-align: middle;\n",
       "    }\n",
       "\n",
       "    .dataframe tbody tr th {\n",
       "        vertical-align: top;\n",
       "    }\n",
       "\n",
       "    .dataframe thead th {\n",
       "        text-align: right;\n",
       "    }\n",
       "</style>\n",
       "<table border=\"1\" class=\"dataframe\">\n",
       "  <thead>\n",
       "    <tr style=\"text-align: right;\">\n",
       "      <th></th>\n",
       "      <th>Year</th>\n",
       "      <th>AI</th>\n",
       "      <th>ML</th>\n",
       "      <th>DS</th>\n",
       "    </tr>\n",
       "  </thead>\n",
       "  <tbody>\n",
       "    <tr>\n",
       "      <th>0</th>\n",
       "      <td>2020</td>\n",
       "      <td>120</td>\n",
       "      <td>100</td>\n",
       "      <td>85</td>\n",
       "    </tr>\n",
       "    <tr>\n",
       "      <th>1</th>\n",
       "      <td>2021</td>\n",
       "      <td>150</td>\n",
       "      <td>110</td>\n",
       "      <td>110</td>\n",
       "    </tr>\n",
       "    <tr>\n",
       "      <th>2</th>\n",
       "      <td>2022</td>\n",
       "      <td>130</td>\n",
       "      <td>150</td>\n",
       "      <td>140</td>\n",
       "    </tr>\n",
       "    <tr>\n",
       "      <th>3</th>\n",
       "      <td>2023</td>\n",
       "      <td>180</td>\n",
       "      <td>200</td>\n",
       "      <td>150</td>\n",
       "    </tr>\n",
       "  </tbody>\n",
       "</table>\n",
       "</div>"
      ],
      "text/plain": [
       "   Year   AI   ML   DS\n",
       "0  2020  120  100   85\n",
       "1  2021  150  110  110\n",
       "2  2022  130  150  140\n",
       "3  2023  180  200  150"
      ]
     },
     "execution_count": 3,
     "metadata": {},
     "output_type": "execute_result"
    }
   ],
   "source": [
    "df=pd.read_csv('sample data.csv')\n",
    "df.head()"
   ]
  },
  {
   "cell_type": "markdown",
   "id": "50abd4af-547f-4238-87b4-331607741dc1",
   "metadata": {},
   "source": [
    "## Calculate total DS students "
   ]
  },
  {
   "cell_type": "code",
   "execution_count": 10,
   "id": "3e582269-5cf1-4e2c-8363-78b506a567a2",
   "metadata": {},
   "outputs": [
    {
     "name": "stdout",
     "output_type": "stream",
     "text": [
      "485\n"
     ]
    }
   ],
   "source": [
    "total_ds=df['DS'].sum()\n",
    "print(total_ds)"
   ]
  },
  {
   "cell_type": "markdown",
   "id": "73ad8823-37e5-4596-bbf9-6648226ab807",
   "metadata": {},
   "source": [
    "## Find highest growth course "
   ]
  },
  {
   "cell_type": "code",
   "execution_count": 32,
   "id": "728bad66-f870-4f16-b598-accb3657f346",
   "metadata": {},
   "outputs": [
    {
     "name": "stdout",
     "output_type": "stream",
     "text": [
      "{'AI': 60, 'ML': 100, 'DS': 65}\n"
     ]
    }
   ],
   "source": [
    "growth={'AI':df.loc[df['Year']==2023,'AI'].values[0]-df.loc[df['Year']==2020,'AI'].values[0],\n",
    "        'ML':df.loc[df['Year']==2023,'ML'].values[0]-df.loc[df['Year']==2020,'ML'].values[0],\n",
    "        'DS':df.loc[df['Year']==2023,'DS'].values[0]-df.loc[df['Year']==2020,'DS'].values[0]}\n",
    "print(growth)"
   ]
  },
  {
   "cell_type": "code",
   "execution_count": 40,
   "id": "6e660719-4d22-434d-a18a-8431eb8546eb",
   "metadata": {},
   "outputs": [],
   "source": [
    "highest_growth_course=max(growth, key=growth.get)"
   ]
  },
  {
   "cell_type": "code",
   "execution_count": 36,
   "id": "0f939592-9933-45e4-a680-455612b00651",
   "metadata": {},
   "outputs": [
    {
     "name": "stdout",
     "output_type": "stream",
     "text": [
      "ML\n"
     ]
    }
   ],
   "source": [
    "print(highest_growth_course)"
   ]
  },
  {
   "cell_type": "markdown",
   "id": "d6359d6f-c30c-440a-ad59-f02ec100a3a1",
   "metadata": {},
   "source": [
    "## Average AI enrollement"
   ]
  },
  {
   "cell_type": "code",
   "execution_count": 24,
   "id": "074fd5da-eb6d-4b42-be75-671b197cf047",
   "metadata": {},
   "outputs": [
    {
     "name": "stdout",
     "output_type": "stream",
     "text": [
      "145.0\n"
     ]
    }
   ],
   "source": [
    "avg_ai=df['AI'].mean()\n",
    "print(avg_ai)"
   ]
  },
  {
   "cell_type": "code",
   "execution_count": null,
   "id": "cdb7c711-a5d6-49cb-927d-91506a567660",
   "metadata": {},
   "outputs": [],
   "source": []
  }
 ],
 "metadata": {
  "kernelspec": {
   "display_name": "Python 3 (ipykernel)",
   "language": "python",
   "name": "python3"
  },
  "language_info": {
   "codemirror_mode": {
    "name": "ipython",
    "version": 3
   },
   "file_extension": ".py",
   "mimetype": "text/x-python",
   "name": "python",
   "nbconvert_exporter": "python",
   "pygments_lexer": "ipython3",
   "version": "3.12.4"
  }
 },
 "nbformat": 4,
 "nbformat_minor": 5
}
