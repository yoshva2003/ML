{
 "cells": [
  {
   "cell_type": "markdown",
   "id": "914cb076-9689-462c-860a-d6e9b62edc09",
   "metadata": {},
   "source": [
    "# PRODUCT RECOMMENDATION "
   ]
  },
  {
   "cell_type": "code",
   "execution_count": 2,
   "id": "75b41fdc-c593-4dd0-86b4-e64309b3be98",
   "metadata": {},
   "outputs": [],
   "source": [
    "#import needed libraries"
   ]
  },
  {
   "cell_type": "code",
   "execution_count": 14,
   "id": "11f3f1d1-e500-4079-aba5-1b45740474b9",
   "metadata": {},
   "outputs": [],
   "source": [
    "import pandas as pd\n",
    "import matplotlib.pyplot as plt\n",
    "from sklearn.cluster import KMeans\n",
    "from sklearn.preprocessing import StandardScaler"
   ]
  },
  {
   "cell_type": "code",
   "execution_count": 16,
   "id": "388dbd30-f2e0-4c2f-876c-eecfef16d896",
   "metadata": {},
   "outputs": [
    {
     "data": {
      "text/html": [
       "<div>\n",
       "<style scoped>\n",
       "    .dataframe tbody tr th:only-of-type {\n",
       "        vertical-align: middle;\n",
       "    }\n",
       "\n",
       "    .dataframe tbody tr th {\n",
       "        vertical-align: top;\n",
       "    }\n",
       "\n",
       "    .dataframe thead th {\n",
       "        text-align: right;\n",
       "    }\n",
       "</style>\n",
       "<table border=\"1\" class=\"dataframe\">\n",
       "  <thead>\n",
       "    <tr style=\"text-align: right;\">\n",
       "      <th></th>\n",
       "      <th>Customer_ID</th>\n",
       "      <th>Age</th>\n",
       "      <th>Annual_Income</th>\n",
       "      <th>Spending_Score</th>\n",
       "      <th>Total_Purchases</th>\n",
       "      <th>Category_Electronics</th>\n",
       "      <th>Category_Fashion</th>\n",
       "      <th>Category_Groceries</th>\n",
       "      <th>Category_Home_Appliances</th>\n",
       "      <th>Category_Health</th>\n",
       "    </tr>\n",
       "  </thead>\n",
       "  <tbody>\n",
       "    <tr>\n",
       "      <th>0</th>\n",
       "      <td>C001</td>\n",
       "      <td>25</td>\n",
       "      <td>40000</td>\n",
       "      <td>35</td>\n",
       "      <td>5</td>\n",
       "      <td>1</td>\n",
       "      <td>0</td>\n",
       "      <td>1</td>\n",
       "      <td>0</td>\n",
       "      <td>0</td>\n",
       "    </tr>\n",
       "    <tr>\n",
       "      <th>1</th>\n",
       "      <td>C002</td>\n",
       "      <td>32</td>\n",
       "      <td>60000</td>\n",
       "      <td>65</td>\n",
       "      <td>10</td>\n",
       "      <td>0</td>\n",
       "      <td>1</td>\n",
       "      <td>1</td>\n",
       "      <td>1</td>\n",
       "      <td>0</td>\n",
       "    </tr>\n",
       "    <tr>\n",
       "      <th>2</th>\n",
       "      <td>C003</td>\n",
       "      <td>45</td>\n",
       "      <td>80000</td>\n",
       "      <td>80</td>\n",
       "      <td>15</td>\n",
       "      <td>1</td>\n",
       "      <td>1</td>\n",
       "      <td>0</td>\n",
       "      <td>1</td>\n",
       "      <td>1</td>\n",
       "    </tr>\n",
       "    <tr>\n",
       "      <th>3</th>\n",
       "      <td>C004</td>\n",
       "      <td>28</td>\n",
       "      <td>45000</td>\n",
       "      <td>40</td>\n",
       "      <td>6</td>\n",
       "      <td>0</td>\n",
       "      <td>1</td>\n",
       "      <td>1</td>\n",
       "      <td>0</td>\n",
       "      <td>0</td>\n",
       "    </tr>\n",
       "    <tr>\n",
       "      <th>4</th>\n",
       "      <td>C005</td>\n",
       "      <td>35</td>\n",
       "      <td>70000</td>\n",
       "      <td>85</td>\n",
       "      <td>18</td>\n",
       "      <td>1</td>\n",
       "      <td>0</td>\n",
       "      <td>0</td>\n",
       "      <td>1</td>\n",
       "      <td>1</td>\n",
       "    </tr>\n",
       "  </tbody>\n",
       "</table>\n",
       "</div>"
      ],
      "text/plain": [
       "  Customer_ID  Age  Annual_Income  Spending_Score  Total_Purchases  \\\n",
       "0        C001   25          40000              35                5   \n",
       "1        C002   32          60000              65               10   \n",
       "2        C003   45          80000              80               15   \n",
       "3        C004   28          45000              40                6   \n",
       "4        C005   35          70000              85               18   \n",
       "\n",
       "   Category_Electronics  Category_Fashion  Category_Groceries  \\\n",
       "0                     1                 0                   1   \n",
       "1                     0                 1                   1   \n",
       "2                     1                 1                   0   \n",
       "3                     0                 1                   1   \n",
       "4                     1                 0                   0   \n",
       "\n",
       "   Category_Home_Appliances  Category_Health  \n",
       "0                         0                0  \n",
       "1                         1                0  \n",
       "2                         1                1  \n",
       "3                         0                0  \n",
       "4                         1                1  "
      ]
     },
     "execution_count": 16,
     "metadata": {},
     "output_type": "execute_result"
    }
   ],
   "source": [
    "# Load the dataset\n",
    "df = pd.read_csv(\"product recommendation.csv\")\n",
    "df.head()"
   ]
  },
  {
   "cell_type": "code",
   "execution_count": 18,
   "id": "33f15a76-50ad-49b3-9b23-b34566ba5b93",
   "metadata": {},
   "outputs": [],
   "source": [
    "# Select relevant features for clustering\n",
    "X = df[['Annual_Income', 'Spending_Score', 'Total_Purchases', \n",
    "        'Category_Electronics', 'Category_Fashion', 'Category_Groceries', \n",
    "        'Category_Home_Appliances', 'Category_Health']]\n",
    "\n",
    "# Scale the data for better clustering\n",
    "scaler = StandardScaler()\n",
    "X_scaled = scaler.fit_transform(X)"
   ]
  },
  {
   "cell_type": "code",
   "execution_count": 20,
   "id": "346c52c2-e677-43dc-a6d2-576cf27fd6d6",
   "metadata": {},
   "outputs": [
    {
     "name": "stderr",
     "output_type": "stream",
     "text": [
      "D:\\jupyter notebook\\Lib\\site-packages\\sklearn\\cluster\\_kmeans.py:1446: UserWarning: KMeans is known to have a memory leak on Windows with MKL, when there are less chunks than available threads. You can avoid it by setting the environment variable OMP_NUM_THREADS=1.\n",
      "  warnings.warn(\n"
     ]
    },
    {
     "data": {
      "image/png": "[encoded data removed]",
      "text/plain": [
       "<Figure size 640x480 with 1 Axes>"
      ]
     },
     "metadata": {},
     "output_type": "display_data"
    }
   ],
   "source": [
    "\n",
    "# Apply K-Means clustering\n",
    "kmeans = KMeans(n_clusters=5, random_state=42)\n",
    "df['Cluster'] = kmeans.fit_predict(X_scaled)\n",
    "\n",
    "# Visualize the clusters\n",
    "plt.scatter(df['Annual_Income'], df['Spending_Score'], c=df['Cluster'], cmap='rainbow')\n",
    "plt.xlabel(\"Annual Income\")\n",
    "plt.ylabel(\"Spending Score\")\n",
    "plt.title(\"Customer Segmentation for Recommendations\")\n",
    "plt.show()"
   ]
  },
  {
   "cell_type": "code",
   "execution_count": 6,
   "id": "2052d598-4a44-4fd3-a455-11124a03ab90",
   "metadata": {},
   "outputs": [
    {
     "name": "stdout",
     "output_type": "stream",
     "text": [
      "Recommended Product Categories for Each Cluster:\n",
      "Cluster\n",
      "0    Category_Electronics\n",
      "1        Category_Fashion\n",
      "2    Category_Electronics\n",
      "3    Category_Electronics\n",
      "4    Category_Electronics\n",
      "dtype: object\n"
     ]
    }
   ],
   "source": [
    "# Find the most popular product category in each cluster\n",
    "cluster_categories = df.groupby(\"Cluster\")[['Category_Electronics', 'Category_Fashion', \n",
    "                                            'Category_Groceries', 'Category_Home_Appliances', \n",
    "                                            'Category_Health']].sum()\n",
    "\n",
    "# Recommend top category per cluster\n",
    "recommendations = cluster_categories.idxmax(axis=1)\n",
    "print(\"Recommended Product Categories for Each Cluster:\")\n",
    "print(recommendations)\n"
   ]
  },
  {
   "cell_type": "code",
   "execution_count": null,
   "id": "07548bfb-1ff2-4a45-bdb3-ebd7126bae37",
   "metadata": {},
   "outputs": [],
   "source": []
  }
 ],
 "metadata": {
  "kernelspec": {
   "display_name": "Python 3 (ipykernel)",
   "language": "python",
   "name": "python3"
  },
  "language_info": {
   "codemirror_mode": {
    "name": "ipython",
    "version": 3
   },
   "file_extension": ".py",
   "mimetype": "text/x-python",
   "name": "python",
   "nbconvert_exporter": "python",
   "pygments_lexer": "ipython3",
   "version": "3.12.4"
  }
 },
 "nbformat": 4,
 "nbformat_minor": 5
}
