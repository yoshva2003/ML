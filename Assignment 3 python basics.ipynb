{
 "cells": [
  {
   "cell_type": "markdown",
   "id": "96561399-5a0d-4ebc-9331-506b0e9b94cf",
   "metadata": {},
   "source": [
    "## 1. Write a Python program to print the first N numbers in the Fibonacci series."
   ]
  },
  {
   "cell_type": "code",
   "execution_count": 23,
   "id": "ee422042-2f60-4b23-b68b-5ef8c4474350",
   "metadata": {},
   "outputs": [
    {
     "name": "stdin",
     "output_type": "stream",
     "text": [
      "Enter number to get Fibonacci numbers: 5\n"
     ]
    },
    {
     "name": "stdout",
     "output_type": "stream",
     "text": [
      "0 1 1 2 3 "
     ]
    }
   ],
   "source": [
    "def fibonnaci_series(n):\n",
    "    count=0\n",
    "    a,b=0,1\n",
    "\n",
    "    while count<n:\n",
    "        print(a,end=\" \")\n",
    "        a,b=b,a+b\n",
    "        count+=1\n",
    "n=int(input(\"Enter number to get Fibonacci numbers:\"))\n",
    "fibonnaci_series(n)"
   ]
  },
  {
   "cell_type": "markdown",
   "id": "47881ec5-60a2-406f-8a8b-1faac4bbf2f6",
   "metadata": {},
   "source": [
    "## 2. Write a function that checks if a given string or number is a palindrome."
   ]
  },
  {
   "cell_type": "code",
   "execution_count": 19,
   "id": "ddd1e9a7-35e3-4298-a6b1-b64e499ae236",
   "metadata": {},
   "outputs": [
    {
     "name": "stdin",
     "output_type": "stream",
     "text": [
      "enter a input: 21113331112\n"
     ]
    },
    {
     "name": "stdout",
     "output_type": "stream",
     "text": [
      "Given string is palindrome\n"
     ]
    }
   ],
   "source": [
    "word=input(\"enter a input:\")\n",
    "if word==word[::-1]:\n",
    "    print(\"Given string is palindrome\")\n",
    "else:\n",
    "    print(\"Given string is not a palindrome\")"
   ]
  },
  {
   "cell_type": "markdown",
   "id": "b0ef58c6-f622-4193-be76-4fceca15b656",
   "metadata": {},
   "source": [
    "## 3. Write a program to compute the factorial of a number using both recursion and iteration."
   ]
  },
  {
   "cell_type": "markdown",
   "id": "c48b938e-f4aa-464f-83eb-f0464023df39",
   "metadata": {},
   "source": [
    "### by recursion"
   ]
  },
  {
   "cell_type": "code",
   "execution_count": 24,
   "id": "fc7d1066-fbca-43e9-b85c-dc246e66e065",
   "metadata": {},
   "outputs": [
    {
     "name": "stdin",
     "output_type": "stream",
     "text": [
      "Enter a number: 5\n"
     ]
    },
    {
     "name": "stdout",
     "output_type": "stream",
     "text": [
      "120\n"
     ]
    }
   ],
   "source": [
    "def factorial(n):\n",
    "    if n==1 or n==0:\n",
    "        return 1\n",
    "    else:\n",
    "        return n*factorial(n-1)\n",
    "n=int(input(\"Enter a number:\"))\n",
    "print(factorial(n))"
   ]
  },
  {
   "cell_type": "markdown",
   "id": "9fcfd6ef-b4c7-48b8-9983-3f0520e3cdcf",
   "metadata": {},
   "source": [
    "### by iteration"
   ]
  },
  {
   "cell_type": "code",
   "execution_count": 30,
   "id": "74d0eb47-9a84-4c8d-af22-c2a7741cc1e7",
   "metadata": {},
   "outputs": [
    {
     "name": "stdin",
     "output_type": "stream",
     "text": [
      "Enter a number: 5\n"
     ]
    },
    {
     "name": "stdout",
     "output_type": "stream",
     "text": [
      "120\n"
     ]
    }
   ],
   "source": [
    "def factorial(n):\n",
    "    fact=1\n",
    "    for i in range(1,n+1):\n",
    "        fact*=i\n",
    "    return fact\n",
    "\n",
    "n=int(input(\"Enter a number:\"))\n",
    "print(factorial(n))"
   ]
  },
  {
   "cell_type": "markdown",
   "id": "b97be3ff-16ac-4ccc-9bb7-fe7090ca0afb",
   "metadata": {},
   "source": [
    "## 4. Write a program to check if a number is prime, and print all primes between 1 and 100."
   ]
  },
  {
   "cell_type": "code",
   "execution_count": 65,
   "id": "cc9e4e5d-3b66-4ef1-a790-ede499e2a683",
   "metadata": {},
   "outputs": [
    {
     "name": "stdin",
     "output_type": "stream",
     "text": [
      "Enter number1: 1\n",
      "Enter number2: 100\n"
     ]
    },
    {
     "name": "stdout",
     "output_type": "stream",
     "text": [
      "2 3 5 7 11 13 17 19 23 29 31 37 41 43 47 53 59 61 67 71 73 79 83 89 97 "
     ]
    }
   ],
   "source": [
    "def is_prime(n):\n",
    "    if n<=1:\n",
    "        return False\n",
    "    for i in range(2,int(n**0.5)+1):\n",
    "        if n%i==0:\n",
    "            return False\n",
    "    return True\n",
    "n1=int(input(\"Enter number1:\"))\n",
    "n2=int(input(\"Enter number2:\"))\n",
    "for num in range(n1,n2+1):\n",
    "    if is_prime(num):\n",
    "        print(num, end=\" \")\n",
    "        "
   ]
  },
  {
   "cell_type": "markdown",
   "id": "fbae6ab2-3ef7-450d-8d7c-d4f2fb36c03a",
   "metadata": {},
   "source": [
    "## 5. Write a function to check if a number is an Armstrong number."
   ]
  },
  {
   "cell_type": "code",
   "execution_count": 88,
   "id": "9084d7d7-751f-404b-8414-ecc9a0b6748e",
   "metadata": {},
   "outputs": [
    {
     "name": "stdout",
     "output_type": "stream",
     "text": [
      "153 is a amstrong number\n"
     ]
    }
   ],
   "source": [
    "def is_amstrong(n):\n",
    "    num=str(n)\n",
    "    power=len(num)\n",
    "    total=sum(int(digit)**power for digit in num)\n",
    "    if total==n:\n",
    "        print(f\"{n} is a amstrong number\")\n",
    "    else:\n",
    "        print(f\"{n} is not a amstrong number\")\n",
    "is_amstrong(153)\n"
   ]
  },
  {
   "cell_type": "markdown",
   "id": "8ea9945f-9db6-4186-be5a-a5feb9917ce5",
   "metadata": {},
   "source": [
    "## 6. Write a Python program to reverse a number and also calculate the sum of its digits"
   ]
  },
  {
   "cell_type": "code",
   "execution_count": 117,
   "id": "7e3e0938-0ac7-4403-b1c0-3c6bc29f9ba4",
   "metadata": {},
   "outputs": [
    {
     "name": "stdin",
     "output_type": "stream",
     "text": [
      "enter a number 12345\n"
     ]
    },
    {
     "name": "stdout",
     "output_type": "stream",
     "text": [
      "the reversed number is :54321\n",
      "sum of the digits is 15\n"
     ]
    }
   ],
   "source": [
    "n=input(\"enter a number\")\n",
    "reverse=n[::-1]\n",
    "print(f\"the reversed number is :{reverse}\")\n",
    "\n",
    "add=sum(int(digit) for digit in n)\n",
    "print(f\"sum of the digits is {add}\")\n"
   ]
  },
  {
   "cell_type": "markdown",
   "id": "fc518bb1-9166-4788-b323-80e4a79e45fa",
   "metadata": {},
   "source": [
    "## 7.Given a list of numbers, write a program to find the second largest number. "
   ]
  },
  {
   "cell_type": "code",
   "execution_count": 122,
   "id": "224e8ff5-4858-4eb1-9794-314ce8da89ff",
   "metadata": {},
   "outputs": [
    {
     "name": "stdout",
     "output_type": "stream",
     "text": [
      "second largest number is 42\n"
     ]
    }
   ],
   "source": [
    "def second_ln(numbers):\n",
    "    num=list(set(numbers))\n",
    "    if len(num)<2:\n",
    "        return (\"there is no second largest number\")\n",
    "    num.sort(reverse=True)\n",
    "    print(f\"second largest number is {num[1]}\")\n",
    "l1=[23,42,55,21,23]\n",
    "second_ln(l1)   "
   ]
  },
  {
   "cell_type": "markdown",
   "id": "6decd625-6854-4822-88a9-3adb480c6330",
   "metadata": {},
   "source": [
    "## 8. Write a Python function to count the number of vowels and consonants in a given string."
   ]
  },
  {
   "cell_type": "code",
   "execution_count": 140,
   "id": "42e5fe7a-fd7a-4ae4-915a-3d6aed59c267",
   "metadata": {},
   "outputs": [
    {
     "name": "stdin",
     "output_type": "stream",
     "text": [
      "enter a string: Python3.14\n"
     ]
    },
    {
     "name": "stdout",
     "output_type": "stream",
     "text": [
      "vowels count is 1\n",
      "consonant count is 5\n"
     ]
    }
   ],
   "source": [
    "text=input(\"enter a string:\").lower()\n",
    "vowels=0\n",
    "consonant=0\n",
    "vow=\"aeiou\"\n",
    "for i in text:\n",
    "    if i.isalpha():\n",
    "        if i in vow:\n",
    "            vowels+=1\n",
    "        else:\n",
    "            consonant+=1\n",
    "print(\"vowels count is\",vowels)\n",
    "print(\"consonant count is\", consonant)\n"
   ]
  },
  {
   "cell_type": "markdown",
   "id": "52a6357e-4f05-4a6f-9cec-bf69326ff667",
   "metadata": {},
   "source": [
    " ## 9. Given a list of N-1 elements from a range 1 to N, find the missing number."
   ]
  },
  {
   "cell_type": "code",
   "execution_count": 155,
   "id": "995594c6-96dc-49dc-a41a-6765abe63a0d",
   "metadata": {},
   "outputs": [
    {
     "name": "stdout",
     "output_type": "stream",
     "text": [
      "the missing number is: 24\n"
     ]
    }
   ],
   "source": [
    "def missing_numbers(num):\n",
    "    start=min(num)\n",
    "    end=max(num)\n",
    "    expect_sum=sum(range(start,end+1))\n",
    "    actual_sum=sum(num)\n",
    "    missing_num=expect_sum-actual_sum\n",
    "    print(\"the missing number is:\",missing_num)\n",
    "num=[23,25,27,26]\n",
    "missing_numbers(num)"
   ]
  },
  {
   "cell_type": "markdown",
   "id": "179bf6d3-ae41-4aee-a5db-95ffeb6e6d16",
   "metadata": {},
   "source": [
    "## 10. Write a program to check if two strings are anagrams of each other."
   ]
  },
  {
   "cell_type": "code",
   "execution_count": 174,
   "id": "d6aea158-2370-4431-a6b1-027d5358f082",
   "metadata": {},
   "outputs": [
    {
     "name": "stdin",
     "output_type": "stream",
     "text": [
      "Enter a string: the Eyes\n",
      "Enter a string: They see\n"
     ]
    },
    {
     "name": "stdout",
     "output_type": "stream",
     "text": [
      "The two strings are anagrams\n"
     ]
    }
   ],
   "source": [
    "input1=str(input(\"Enter a string:\")).replace(\" \",\"\").lower()\n",
    "input2=str(input(\"Enter a string:\")).replace(\" \",\"\").lower()\n",
    "\n",
    "if sorted(input1)==sorted(input2):\n",
    "    print(\"The two strings are anagrams\")\n",
    "else:\n",
    "    print(\"The two strings are not anagrams\")"
   ]
  },
  {
   "cell_type": "code",
   "execution_count": null,
   "id": "7841a1a0-7098-4f8c-a214-fcb233238f89",
   "metadata": {},
   "outputs": [],
   "source": []
  }
 ],
 "metadata": {
  "kernelspec": {
   "display_name": "Python 3 (ipykernel)",
   "language": "python",
   "name": "python3"
  },
  "language_info": {
   "codemirror_mode": {
    "name": "ipython",
    "version": 3
   },
   "file_extension": ".py",
   "mimetype": "text/x-python",
   "name": "python",
   "nbconvert_exporter": "python",
   "pygments_lexer": "ipython3",
   "version": "3.12.4"
  }
 },
 "nbformat": 4,
 "nbformat_minor": 5
}
